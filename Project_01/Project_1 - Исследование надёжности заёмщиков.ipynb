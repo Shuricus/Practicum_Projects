{
 "cells": [
  {
   "cell_type": "markdown",
   "metadata": {},
   "source": [
    "# Исследование надёжности заёмщиков\n",
    "\n",
    "Заказчик — кредитный отдел банка. Нужно разобраться, влияет ли семейное положение и количество детей клиента на факт погашения кредита в срок. Входные данные от банка — статистика о платёжеспособности клиентов.\n",
    "\n",
    "Результаты исследования будут учтены при построении модели **кредитного скоринга** — специальной системы, которая оценивает способность потенциального заёмщика вернуть кредит банку."
   ]
  },
  {
   "cell_type": "markdown",
   "metadata": {},
   "source": [
    "##  1. Загрузка данных и изучение общей информации. "
   ]
  },
  {
   "cell_type": "code",
   "execution_count": 1,
   "metadata": {},
   "outputs": [
    {
     "name": "stdout",
     "output_type": "stream",
     "text": [
      "<class 'pandas.core.frame.DataFrame'>\n",
      "RangeIndex: 21525 entries, 0 to 21524\n",
      "Data columns (total 12 columns):\n",
      "children            21525 non-null int64\n",
      "days_employed       19351 non-null float64\n",
      "dob_years           21525 non-null int64\n",
      "education           21525 non-null object\n",
      "education_id        21525 non-null int64\n",
      "family_status       21525 non-null object\n",
      "family_status_id    21525 non-null int64\n",
      "gender              21525 non-null object\n",
      "income_type         21525 non-null object\n",
      "debt                21525 non-null int64\n",
      "total_income        19351 non-null float64\n",
      "purpose             21525 non-null object\n",
      "dtypes: float64(2), int64(5), object(5)\n",
      "memory usage: 2.0+ MB\n",
      "None\n"
     ]
    }
   ],
   "source": [
    "import pandas as pd\n",
    "data = pd.read_csv('/datasets/data.csv')\n",
    "# Общая информация о таблице\n",
    "print(data.info())"
   ]
  },
  {
   "cell_type": "code",
   "execution_count": 2,
   "metadata": {},
   "outputs": [
    {
     "name": "stdout",
     "output_type": "stream",
     "text": [
      " 0     14149\n",
      " 1      4818\n",
      " 2      2055\n",
      " 3       330\n",
      " 20       76\n",
      "-1        47\n",
      " 4        41\n",
      " 5         9\n",
      "Name: children, dtype: int64\n"
     ]
    }
   ],
   "source": [
    "# Количество уникальных значений в столбце 'children'\n",
    "print(data['children'].value_counts())"
   ]
  },
  {
   "cell_type": "code",
   "execution_count": 3,
   "metadata": {},
   "outputs": [
    {
     "name": "stdout",
     "output_type": "stream",
     "text": [
      "6954     401755.400475\n",
      "10006    401715.811749\n",
      "7664     401675.093434\n",
      "2156     401674.466633\n",
      "7794     401663.850046\n",
      "             ...      \n",
      "21489              NaN\n",
      "21495              NaN\n",
      "21497              NaN\n",
      "21502              NaN\n",
      "21510              NaN\n",
      "Name: days_employed, Length: 21525, dtype: float64\n"
     ]
    }
   ],
   "source": [
    "# Диапазон значений по столбцу 'days_employed'\n",
    "print(data['days_employed'].sort_values(ascending = False))"
   ]
  },
  {
   "cell_type": "code",
   "execution_count": 4,
   "metadata": {},
   "outputs": [
    {
     "name": "stdout",
     "output_type": "stream",
     "text": [
      "children            2174\n",
      "days_employed          0\n",
      "dob_years           2174\n",
      "education           2174\n",
      "education_id        2174\n",
      "family_status       2174\n",
      "family_status_id    2174\n",
      "gender              2174\n",
      "income_type         2174\n",
      "debt                2174\n",
      "total_income           0\n",
      "purpose             2174\n",
      "dtype: int64\n"
     ]
    }
   ],
   "source": [
    "# Подсчет нулевых значений в столбце 'days_employed'\n",
    "print(data[data['days_employed'].isnull()].count())"
   ]
  },
  {
   "cell_type": "code",
   "execution_count": 5,
   "metadata": {},
   "outputs": [
    {
     "name": "stdout",
     "output_type": "stream",
     "text": [
      "children            101\n",
      "days_employed        91\n",
      "dob_years           101\n",
      "education           101\n",
      "education_id        101\n",
      "family_status       101\n",
      "family_status_id    101\n",
      "gender              101\n",
      "income_type         101\n",
      "debt                101\n",
      "total_income         91\n",
      "purpose             101\n",
      "dtype: int64\n"
     ]
    }
   ],
   "source": [
    "# Подсчет значений возраста, выходящих за разумный пределы\n",
    "print(data.loc[(data['dob_years'] <= 16) | (data['dob_years'] >= 100)].count())"
   ]
  },
  {
   "cell_type": "code",
   "execution_count": 6,
   "metadata": {},
   "outputs": [
    {
     "name": "stdout",
     "output_type": "stream",
     "text": [
      "                     education_id\n",
      "education                        \n",
      "ВЫСШЕЕ                        274\n",
      "Высшее                        268\n",
      "НАЧАЛЬНОЕ                      17\n",
      "НЕОКОНЧЕННОЕ ВЫСШЕЕ            29\n",
      "Начальное                      15\n",
      "Неоконченное высшее            47\n",
      "СРЕДНЕЕ                       772\n",
      "Среднее                       711\n",
      "УЧЕНАЯ СТЕПЕНЬ                  1\n",
      "Ученая степень                  1\n",
      "высшее                       4718\n",
      "начальное                     250\n",
      "неоконченное высшее           668\n",
      "среднее                     13750\n",
      "ученая степень                  4\n"
     ]
    }
   ],
   "source": [
    "# Возможные варианты образования\n",
    "print(data[['education','education_id']].groupby('education').count())"
   ]
  },
  {
   "cell_type": "code",
   "execution_count": 7,
   "metadata": {},
   "outputs": [
    {
     "name": "stdout",
     "output_type": "stream",
     "text": [
      "                       family_status_id\n",
      "family_status                          \n",
      "Не женат / не замужем              2813\n",
      "в разводе                          1195\n",
      "вдовец / вдова                      960\n",
      "гражданский брак                   4177\n",
      "женат / замужем                   12380\n"
     ]
    }
   ],
   "source": [
    "# Возможные варианты семейного положения\n",
    "print(data[['family_status','family_status_id']].groupby('family_status').count())"
   ]
  },
  {
   "cell_type": "code",
   "execution_count": 8,
   "metadata": {},
   "outputs": [
    {
     "name": "stdout",
     "output_type": "stream",
     "text": [
      "F      14236\n",
      "M       7288\n",
      "XNA        1\n",
      "Name: gender, dtype: int64\n"
     ]
    }
   ],
   "source": [
    "# Возможные варианты пола\n",
    "print(data['gender'].value_counts())"
   ]
  },
  {
   "cell_type": "code",
   "execution_count": 9,
   "metadata": {},
   "outputs": [
    {
     "name": "stdout",
     "output_type": "stream",
     "text": [
      "сотрудник          11119\n",
      "компаньон           5085\n",
      "пенсионер           3856\n",
      "госслужащий         1459\n",
      "предприниматель        2\n",
      "безработный            2\n",
      "в декрете              1\n",
      "студент                1\n",
      "Name: income_type, dtype: int64\n"
     ]
    }
   ],
   "source": [
    "# Возможные варианты типов дохода\n",
    "print(data['income_type'].value_counts())"
   ]
  },
  {
   "cell_type": "code",
   "execution_count": 10,
   "metadata": {},
   "outputs": [
    {
     "name": "stdout",
     "output_type": "stream",
     "text": [
      "0    19784\n",
      "1     1741\n",
      "Name: debt, dtype: int64\n"
     ]
    }
   ],
   "source": [
    "# Возможные варианты просрочки\n",
    "print(data['debt'].value_counts())"
   ]
  },
  {
   "cell_type": "code",
   "execution_count": 11,
   "metadata": {},
   "outputs": [
    {
     "name": "stdout",
     "output_type": "stream",
     "text": [
      "свадьба                                   797\n",
      "на проведение свадьбы                     777\n",
      "сыграть свадьбу                           774\n",
      "операции с недвижимостью                  676\n",
      "покупка коммерческой недвижимости         664\n",
      "покупка жилья для сдачи                   653\n",
      "операции с жильем                         653\n",
      "операции с коммерческой недвижимостью     651\n",
      "жилье                                     647\n",
      "покупка жилья                             647\n",
      "покупка жилья для семьи                   641\n",
      "строительство собственной недвижимости    635\n",
      "недвижимость                              634\n",
      "операции со своей недвижимостью           630\n",
      "строительство жилой недвижимости          626\n",
      "покупка недвижимости                      624\n",
      "строительство недвижимости                620\n",
      "покупка своего жилья                      620\n",
      "ремонт жилью                              612\n",
      "покупка жилой недвижимости                607\n",
      "на покупку своего автомобиля              505\n",
      "заняться высшим образованием              496\n",
      "автомобиль                                495\n",
      "сделка с подержанным автомобилем          489\n",
      "свой автомобиль                           480\n",
      "на покупку подержанного автомобиля        479\n",
      "автомобили                                478\n",
      "на покупку автомобиля                     472\n",
      "дополнительное образование                462\n",
      "приобретение автомобиля                   462\n",
      "сделка с автомобилем                      455\n",
      "высшее образование                        453\n",
      "получение дополнительного образования     447\n",
      "образование                               447\n",
      "получение образования                     443\n",
      "профильное образование                    436\n",
      "получение высшего образования             426\n",
      "заняться образованием                     412\n",
      "Name: purpose, dtype: int64\n"
     ]
    }
   ],
   "source": [
    "# Возможные варианты цели кредита\n",
    "print(data['purpose'].value_counts())"
   ]
  },
  {
   "cell_type": "markdown",
   "metadata": {},
   "source": [
    "### Выводы по входным данным"
   ]
  },
  {
   "cell_type": "markdown",
   "metadata": {},
   "source": [
    "1. Количество значений в столбцах не одинаково.В двух столбцах значений меньше, соответственно в них есть пропуски данных\n",
    "2. Тип значений столбцов устраивает кроме debt - надо поставить булево значение (?)\n",
    "3. Анализ столбцов\n",
    "  1. children\n",
    "      * Посмотрев на список уникальных значений можно сделать следующие предположения:\n",
    "      * 20 детей конечно может быть, но очень вряд ли. Скорее всего случайно добавили 0. Надо заменить на 2\n",
    "      * Аналогично с показателем -1, надо исправить на 1\n",
    "  2. days_employed\n",
    "      * Очень большой разброс данных. Есть и отрицательные числа и NaN и огромныйе числа типа 482 лет (дни /365). Есть гипотезы.\n",
    "      * Отрицательные величины на самом деле положительные, у которых в начале появился \"-\". Надо взять их по модулю\n",
    "      * Пустые значения означают или отсутствие рабочего стажа или отсутствие информации. Их 2174 штуки или 10%, что существенно. Если это отсутствие информации, то можно заполнить пропуски средним значением в зависимости от возраста. Если это отсутствие рабочего стажа, то заполнить 0. Надо узнать причину пропусков. Учитывая, что данные корелируют со столбцом дохода, большая вероятность, что данные по работе не были занесены и тогда эти строки или удалить или заполнить по среднему.\n",
    "      * Большие значения стажа были введены не в днях, а в часах и их надо дополнительно разделить на 24\n",
    "  3. dob_years\n",
    "      * 101 запись меньше 16 лет и больше 100, а таким кредит не дают. Их всего 0,4% и их можно удалить\n",
    "  4. education\n",
    "      * Есть дубликаты значений, написанные в разном регистре. Надо привести к нижнему для категоризации\n",
    "  5. education_id\n",
    "      * Есть 5 значений, соответствующие 5 типам образавания. Вопрос насколько они корректны? Можно исходя из них заполнить столбец \"education\" и сравнить с тем что сделали выше\n",
    "  6. family_status \n",
    "      * никаких претензий нет\n",
    "  7. family_status_id\n",
    "      * никаких претензий нет\n",
    "  8. gender \n",
    "      * одна непонятная запись \"XNA\", ее можно удалить \n",
    "  9. income_type\n",
    "      * 4 основных категрии, 4 - незначительных. Их можно или удалить, или свести в одну категоию \"прочие\"\n",
    "  10. debt\n",
    "      * никаких претензий нет \n",
    "  11. total_income\n",
    "      * Для удобства восприятия возможно отформатировать до 0 знаков после запятой. \n",
    "  12. purpose\n",
    "      * Много дубликатов, связанны, видимо, со свободной формой заполнения. Надо провести леммизацию и определить категории"
   ]
  },
  {
   "cell_type": "markdown",
   "metadata": {},
   "source": [
    "## 2. Предобработка данных"
   ]
  },
  {
   "cell_type": "markdown",
   "metadata": {},
   "source": [
    "### Обработка пропусков"
   ]
  },
  {
   "cell_type": "code",
   "execution_count": 12,
   "metadata": {},
   "outputs": [],
   "source": [
    "# Приводим в порядок столбец 'children', заменяя значения\n",
    "data.loc[data['children'] == -1, 'children'] = 1\n",
    "data.loc[data['children'] == 20, 'children'] = 2\n",
    "# Сокращаем количество категорий в столбце 'income_type'\n",
    "data.loc[data['income_type'] == 'безработный', 'income_type'] = 'прочее'\n",
    "data.loc[data['income_type'] == 'предприниматель', 'income_type'] = 'прочее'\n",
    "data.loc[data['income_type'] == 'в декрете', 'income_type'] = 'прочее'\n",
    "data.loc[data['income_type'] == 'студент', 'income_type'] = 'прочее'\n",
    "# Функция вычисления медианного дохода по категориям\n",
    "def median_income_type(income_type_in):\n",
    "    data.loc[data['income_type'] == income_type_in]\n",
    "    median_income_type = data['total_income'].median()\n",
    "    return median_income_type\n",
    "# Заполнение пропусков медианным доходом по категориям\n",
    "data.loc[data['income_type'] == 'сотрудник','total_income'] = data.loc[data['income_type'] == 'сотрудник','total_income'].fillna(value = median_income_type('сотрудник'))\n",
    "data.loc[data['income_type'] == 'пенсионер','total_income'] = data.loc[data['income_type'] == 'пенсионер','total_income'].fillna(value = median_income_type('пенсионер'))\n",
    "data.loc[data['income_type'] == 'прочее','total_income'] = data.loc[data['income_type'] == 'прочее','total_income'].fillna(value = median_income_type('прочее'))\n",
    "data.loc[data['income_type'] == 'компаньон','total_income'] = data.loc[data['income_type'] == 'компаньон','total_income'].fillna(value = median_income_type('компаньон'))\n",
    "data.loc[data['income_type'] == 'госслужащий','total_income'] = data.loc[data['income_type'] == 'госслужащий','total_income'].fillna(value = median_income_type('госслужащий'))"
   ]
  },
  {
   "cell_type": "markdown",
   "metadata": {},
   "source": [
    "### Замена типа данных"
   ]
  },
  {
   "cell_type": "code",
   "execution_count": 13,
   "metadata": {},
   "outputs": [],
   "source": [
    "data['total_income'] = data['total_income'].astype('int')"
   ]
  },
  {
   "cell_type": "markdown",
   "metadata": {},
   "source": [
    "### Обработка дубликатов"
   ]
  },
  {
   "cell_type": "code",
   "execution_count": 14,
   "metadata": {},
   "outputs": [],
   "source": [
    "# Приведение столбца профессий к нижнему регистру\n",
    "data['education'] = data['education'].str.lower()"
   ]
  },
  {
   "cell_type": "code",
   "execution_count": 15,
   "metadata": {},
   "outputs": [
    {
     "name": "stdout",
     "output_type": "stream",
     "text": [
      "0\n"
     ]
    }
   ],
   "source": [
    "# Удаляем дубликаты\n",
    "data = data.drop_duplicates().reset_index(drop=True)\n",
    "print(data.duplicated().sum())"
   ]
  },
  {
   "cell_type": "markdown",
   "metadata": {},
   "source": [
    "### Лемматизация"
   ]
  },
  {
   "cell_type": "code",
   "execution_count": 16,
   "metadata": {},
   "outputs": [
    {
     "name": "stdout",
     "output_type": "stream",
     "text": [
      "Counter({'недвижимость': 6351, 'покупка': 5897, 'жилье': 4460, 'автомобиль': 4306, 'образование': 4013, 'с': 2918, 'операция': 2604, 'свадьба': 2324, 'свой': 2230, 'на': 2222, 'строительство': 1878, 'высокий': 1374, 'получение': 1314, 'коммерческий': 1311, 'для': 1289, 'жилой': 1230, 'сделка': 941, 'дополнительный': 906, 'заниматься': 904, 'проведение': 768, 'сыграть': 765, 'сдача': 651, 'семья': 638, 'собственный': 635, 'со': 627, 'ремонт': 607, 'подержанный': 486, 'подержать': 478, 'приобретение': 461, 'профильный': 436})\n"
     ]
    }
   ],
   "source": [
    "# импорт библиотеки pymystem3\n",
    "from pymystem3 import Mystem\n",
    "m = Mystem()\n",
    "# Функция лемматизации\n",
    "def purpose_lem(row):\n",
    "    lemmas = ' '.join(m.lemmatize(row))\n",
    "    return lemmas\n",
    "# Запись лемм в новый столбец 'purpose_lem'\n",
    "data['purpose_lem'] = data['purpose'].apply(purpose_lem)\n",
    "# импорт контейнера для подсчёта упоминаний слов\n",
    "from collections import Counter\n",
    "# вывод количества уникальных лемм \n",
    "print(Counter(' '.join(data['purpose_lem'].tolist()).split()))"
   ]
  },
  {
   "cell_type": "markdown",
   "metadata": {},
   "source": [
    "### Категоризация данных"
   ]
  },
  {
   "cell_type": "markdown",
   "metadata": {},
   "source": [
    "Для ответов на вопросы нам понадобятся категории в столбцах:\n",
    "1. Дети\n",
    "    * 0 (нет детей)\n",
    "    * 1-2 (есть дети)\n",
    "    * 3 и больше (многодетные)\n",
    "2. Семейное положение\n",
    "    * женат / замужем\n",
    "    * гражданский брак\n",
    "    * Не женат / не замужем\n",
    "    * в разводе\n",
    "    * вдовец / вдова  \n",
    "3. Уровень дохода\n",
    "    * Низкий доход (до 20 000)\n",
    "    * Средний доход (от 20 000 до 50 000)\n",
    "    * Высокий доход (более 50 000)\n",
    "4. Цели\n",
    "    * Недвижимость / жилье / ремонт\n",
    "    * Автомобиль\n",
    "    * Образование\n",
    "    * Свадьба"
   ]
  },
  {
   "cell_type": "code",
   "execution_count": 17,
   "metadata": {},
   "outputs": [],
   "source": [
    "# Функция определения категории детей\n",
    "def children_category(amount):\n",
    "    if amount == 0:\n",
    "        return 'нет детей'\n",
    "    if amount >= 3:\n",
    "        return 'многодетные'\n",
    "    return 'есть дети'\n",
    "# Новый столбец с категориями по детям\n",
    "data['children_category'] = data['children'].apply(children_category)\n",
    "\n",
    "# Функция определения категории дохода\n",
    "def total_income_category (amount):\n",
    "    if amount <= 100000:\n",
    "        return 'Низкий доход'\n",
    "    if amount >= 200000:\n",
    "        return 'Высокий доход'\n",
    "    return 'Средний доход'\n",
    "# Новый столбец с категориями по категориям дохода\n",
    "data['total_income_category'] = data['total_income'].apply(total_income_category)\n",
    "\n",
    "# Функция определения категории цели кредита\n",
    "def purpose_catrgory (row):\n",
    "    for word in row.split(' '):\n",
    "        if word == 'недвижимость':\n",
    "            return 'недвижимость'\n",
    "        if word == 'жилье':\n",
    "            return 'недвижимость'        \n",
    "        if word == 'ремонт':\n",
    "            return 'недвижимость'\n",
    "        if word == 'автомобиль':\n",
    "            return 'автомобиль' \n",
    "        if word == 'образование':\n",
    "            return 'образование'  \n",
    "        if word == 'свадьба':\n",
    "            return 'свадьба'  \n",
    "# Запись категорий в новый столбец 'purpose_catrgory'\n",
    "data['purpose_catrgory'] = data['purpose_lem'].apply(purpose_catrgory)       "
   ]
  },
  {
   "cell_type": "markdown",
   "metadata": {},
   "source": [
    "##  3. Ответьте на вопросы"
   ]
  },
  {
   "cell_type": "markdown",
   "metadata": {},
   "source": [
    "### Есть ли зависимость между наличием детей и возвратом кредита в срок?"
   ]
  },
  {
   "cell_type": "code",
   "execution_count": 18,
   "metadata": {},
   "outputs": [
    {
     "name": "stdout",
     "output_type": "stream",
     "text": [
      "children_category\n",
      "нет детей      7.543822\n",
      "многодетные    8.157895\n",
      "есть дети      9.265359\n",
      "Name: debt, dtype: float64\n"
     ]
    }
   ],
   "source": [
    "# Подсчет долей возврата кредита по категориям детей\n",
    "groupby_children_category = data.groupby('children_category')['debt'].sum() / data.groupby('children_category')['debt'].count()\n",
    "print(groupby_children_category.sort_values()*100)\n"
   ]
  },
  {
   "cell_type": "markdown",
   "metadata": {},
   "source": [
    "### Вывод 1\n",
    "Лучше всего возвращают кредиты заемщики без детей.  \n",
    "Однако зависимость между наличием детей и возвратом кредита не велика и составляет 1,72%. "
   ]
  },
  {
   "cell_type": "markdown",
   "metadata": {},
   "source": [
    "### Есть ли зависимость между семейным положением и возвратом кредита в срок?"
   ]
  },
  {
   "cell_type": "code",
   "execution_count": 19,
   "metadata": {},
   "outputs": [
    {
     "name": "stdout",
     "output_type": "stream",
     "text": [
      "family_status\n",
      "вдовец / вдова           0.065693\n",
      "в разводе                0.071130\n",
      "женат / замужем          0.075452\n",
      "гражданский брак         0.093471\n",
      "Не женат / не замужем    0.097509\n",
      "Name: debt, dtype: float64\n"
     ]
    }
   ],
   "source": [
    "groupby_family_status = data.groupby('family_status')['debt'].sum() / data.groupby('family_status')['debt'].count()\n",
    "print(groupby_family_status.sort_values())"
   ]
  },
  {
   "cell_type": "markdown",
   "metadata": {},
   "source": [
    "### Вывод 2\n",
    "В целом, здесь видно, что наиболее надежные заемщики, это те, кто находится или когда-либо был в официальном браке."
   ]
  },
  {
   "cell_type": "markdown",
   "metadata": {},
   "source": [
    "### Есть ли зависимость между уровнем дохода и возвратом кредита в срок?"
   ]
  },
  {
   "cell_type": "code",
   "execution_count": 20,
   "metadata": {},
   "outputs": [
    {
     "name": "stdout",
     "output_type": "stream",
     "text": [
      "total_income_category\n",
      "Высокий доход    0.070667\n",
      "Низкий доход     0.079319\n",
      "Средний доход    0.086289\n",
      "Name: debt, dtype: float64\n"
     ]
    }
   ],
   "source": [
    "# Подсчет долей возврата кредита по категориям дохода\n",
    "groupby_income_category = data.groupby('total_income_category')['debt'].sum() / data.groupby('total_income_category')['debt'].count()\n",
    "print(groupby_income_category.sort_values())"
   ]
  },
  {
   "cell_type": "markdown",
   "metadata": {},
   "source": [
    "### Вывод 3\n",
    "Чем выше доход, тем меньше проблем с возратами кредита. "
   ]
  },
  {
   "cell_type": "markdown",
   "metadata": {},
   "source": [
    "Чем выше доход, тем меньше проблем с возратами кредита. Однако, что характерно, клиенты с самым нихким уровнем дохода отдают кредиты лучше, чем клиенты со средним."
   ]
  },
  {
   "cell_type": "markdown",
   "metadata": {},
   "source": [
    "### Как разные цели кредита влияют на его возврат в срок?"
   ]
  },
  {
   "cell_type": "code",
   "execution_count": 21,
   "metadata": {},
   "outputs": [
    {
     "name": "stdout",
     "output_type": "stream",
     "text": [
      "purpose_catrgory\n",
      "недвижимость    0.072334\n",
      "свадьба         0.080034\n",
      "образование     0.092200\n",
      "автомобиль      0.093590\n",
      "Name: debt, dtype: float64\n"
     ]
    }
   ],
   "source": [
    "groupby_purpose = data.groupby('purpose_catrgory')['debt'].sum() / data.groupby('purpose_catrgory')['debt'].count()\n",
    "print(groupby_purpose.sort_values())"
   ]
  },
  {
   "cell_type": "markdown",
   "metadata": {},
   "source": [
    "### Вывод 4\n",
    "Лучше всего возвращают кредиты на недвижимость, хуже всего - на аввтомобиль"
   ]
  },
  {
   "cell_type": "markdown",
   "metadata": {},
   "source": [
    "### При оформлении кредита на разные цели заемщики какого семейного положения наболее аккуратны?"
   ]
  },
  {
   "cell_type": "code",
   "execution_count": 22,
   "metadata": {
    "scrolled": true
   },
   "outputs": [
    {
     "name": "stdout",
     "output_type": "stream",
     "text": [
      "family_status     Не женат / не замужем  в разводе  вдовец / вдова  \\\n",
      "purpose_catrgory                                                     \n",
      "автомобиль                     0.128728   0.074733        0.091743   \n",
      "недвижимость                   0.081454   0.069527        0.051661   \n",
      "образование                    0.107452   0.071429        0.075377   \n",
      "свадьба                             NaN        NaN             NaN   \n",
      "\n",
      "family_status     гражданский брак  женат / замужем  \n",
      "purpose_catrgory                                     \n",
      "автомобиль                0.117512         0.083699  \n",
      "недвижимость              0.092012         0.069349  \n",
      "образование               0.148515         0.083237  \n",
      "свадьба                   0.080034              NaN  \n"
     ]
    }
   ],
   "source": [
    "print(data.pivot_table('debt', index='purpose_catrgory', columns = 'family_status'))"
   ]
  },
  {
   "cell_type": "markdown",
   "metadata": {},
   "source": [
    "### Вывод 5\n",
    "При цели кредита \"на автомобиль\" лучше всего возвращают заемщики, находящиеся в разводе, хуже всего - не женатые  \n",
    "При цели кредита \"на недвижимость\" лучше всего возвращают заемщики в статусе \"вдовец/вдова\", хуже всего - в гражданском браке   При цели кредита \"на образование\" лучше всего возвращают заемщики в статусе \"женат/замужем\", хуже всего - в гражданском браке   Кредит \"на свадьбу\" берут только заемщики в гражданском браке."
   ]
  },
  {
   "cell_type": "markdown",
   "metadata": {},
   "source": [
    "## 4. Общий вывод"
   ]
  },
  {
   "cell_type": "markdown",
   "metadata": {},
   "source": [
    "### Анализ предоставленных данных показал:\n",
    "1. Между наличием детей и возвратом кредита в срок зависимости практически нет. Лучше всего возвращают кредиты заемщики без детей.\n",
    "2. Между семейным положением и возвратом кредита в срок зависимомь минимальна. Наиболее аккуратные - \"вдовец / вдова\", наиболее проблемные - без семьи\n",
    "3. Наиболее аккуратно платят заемщики с высоким доходом, а хуже  - со средним доходом.\n",
    "4. Лучше всего возвращают кредиты на автомобиль, хуже всего - на недвижимость\n",
    "5. При цели кредита \"на автомобиль\" лучше всего возвращают заемщики, находящиеся в разводе, хуже всего - не женатые  \n",
    "При цели кредита \"на недвижимость\" лучше всего возвращают заемщики в статусе \"вдовец/вдова\", хуже всего - в гражданском браке   При цели кредита \"на образование\" лучше всего возвращают заемщики в статусе \"женат/замужем\", хуже всего - в гражданском браке   Кредит \"на свадьбу\" берут только заемщики в гражданском браке.  \n",
    "\n",
    "### Рекомендации к дальнейшему сбору данных:\n",
    "1. Уточнить указание к заполнении \"Общего трудового стажа\", например месяцы и сделать предварительную проверку на адекватность значения\n",
    "2. При заполнении сделать категории типов занятости.\n",
    "3. При заполнении сделать категории целей кредита.\n",
    "\n",
    "### Дополнительно:\n",
    "Возможно имеет смысл рассчитать кросс-категорийные показатели. Например: сумма кредита и доход заемщика, цели кредита и семейное положение и т.д."
   ]
  }
 ],
 "metadata": {
  "kernelspec": {
   "display_name": "Python 3",
   "language": "python",
   "name": "python3"
  },
  "language_info": {
   "codemirror_mode": {
    "name": "ipython",
    "version": 3
   },
   "file_extension": ".py",
   "mimetype": "text/x-python",
   "name": "python",
   "nbconvert_exporter": "python",
   "pygments_lexer": "ipython3",
   "version": "3.7.8"
  },
  "toc": {
   "base_numbering": 1,
   "nav_menu": {},
   "number_sections": true,
   "sideBar": true,
   "skip_h1_title": true,
   "title_cell": "Table of Contents",
   "title_sidebar": "Contents",
   "toc_cell": false,
   "toc_position": {},
   "toc_section_display": true,
   "toc_window_display": false
  }
 },
 "nbformat": 4,
 "nbformat_minor": 2
}
