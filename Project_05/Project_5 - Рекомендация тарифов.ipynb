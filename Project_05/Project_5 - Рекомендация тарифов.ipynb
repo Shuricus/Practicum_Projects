{
 "cells": [
  {
   "cell_type": "markdown",
   "metadata": {},
   "source": [
    "# Описание проекта\n",
    "\n",
    "    Оператор мобильной связи «Мегалайн» выяснил: многие клиенты пользуются архивными тарифами. Они хотят построить систему, способную проанализировать поведение клиентов и предложить пользователям новый тариф: «Смарт» или «Ультра».\n",
    "    В нашем распоряжении данные о поведении клиентов, которые уже перешли на эти тарифы. Нужно построить модель для задачи классификации, которая выберет подходящий тариф. \n",
    "    Построим модель с максимально большим значением accuracy. Нужно довести долю правильных ответов по крайней мере до 0.75. Проверим accuracy на тестовой выборке. А также проверим построенные модели на адекватность\n",
    "    "
   ]
  },
  {
   "cell_type": "markdown",
   "metadata": {},
   "source": [
    "# 1. Изучение данных"
   ]
  },
  {
   "cell_type": "code",
   "execution_count": 4,
   "metadata": {},
   "outputs": [
    {
     "name": "stdout",
     "output_type": "stream",
     "text": [
      "<class 'pandas.core.frame.DataFrame'>\n",
      "RangeIndex: 3214 entries, 0 to 3213\n",
      "Data columns (total 5 columns):\n",
      " #   Column    Non-Null Count  Dtype  \n",
      "---  ------    --------------  -----  \n",
      " 0   calls     3214 non-null   float64\n",
      " 1   minutes   3214 non-null   float64\n",
      " 2   messages  3214 non-null   float64\n",
      " 3   mb_used   3214 non-null   float64\n",
      " 4   is_ultra  3214 non-null   int64  \n",
      "dtypes: float64(4), int64(1)\n",
      "memory usage: 125.7 KB\n"
     ]
    }
   ],
   "source": [
    "# Импорт библиотек и данных\n",
    "import pandas as pd\n",
    "import numpy as np\n",
    "import matplotlib.pyplot as plt\n",
    "from matplotlib.pylab import rc, plot\n",
    "import seaborn as sns\n",
    "\n",
    "from sklearn.tree import DecisionTreeClassifier\n",
    "from sklearn.ensemble import RandomForestClassifier\n",
    "from sklearn.linear_model import LogisticRegression \n",
    "\n",
    "from sklearn.metrics import accuracy_score, mean_squared_error\n",
    "from sklearn.metrics import roc_curve, classification_report\n",
    "\n",
    "from sklearn.model_selection import cross_val_score\n",
    "from sklearn.model_selection import train_test_split\n",
    "\n",
    "df = pd.read_csv('users_behavior.csv')\n",
    "df.info()"
   ]
  },
  {
   "cell_type": "code",
   "execution_count": 5,
   "metadata": {},
   "outputs": [
    {
     "data": {
      "text/html": [
       "<div>\n",
       "<style scoped>\n",
       "    .dataframe tbody tr th:only-of-type {\n",
       "        vertical-align: middle;\n",
       "    }\n",
       "\n",
       "    .dataframe tbody tr th {\n",
       "        vertical-align: top;\n",
       "    }\n",
       "\n",
       "    .dataframe thead th {\n",
       "        text-align: right;\n",
       "    }\n",
       "</style>\n",
       "<table border=\"1\" class=\"dataframe\">\n",
       "  <thead>\n",
       "    <tr style=\"text-align: right;\">\n",
       "      <th></th>\n",
       "      <th>calls</th>\n",
       "      <th>minutes</th>\n",
       "      <th>messages</th>\n",
       "      <th>mb_used</th>\n",
       "      <th>is_ultra</th>\n",
       "    </tr>\n",
       "  </thead>\n",
       "  <tbody>\n",
       "    <tr>\n",
       "      <th>0</th>\n",
       "      <td>40.0</td>\n",
       "      <td>311.90</td>\n",
       "      <td>83.0</td>\n",
       "      <td>19915.42</td>\n",
       "      <td>0</td>\n",
       "    </tr>\n",
       "    <tr>\n",
       "      <th>1</th>\n",
       "      <td>85.0</td>\n",
       "      <td>516.75</td>\n",
       "      <td>56.0</td>\n",
       "      <td>22696.96</td>\n",
       "      <td>0</td>\n",
       "    </tr>\n",
       "    <tr>\n",
       "      <th>2</th>\n",
       "      <td>77.0</td>\n",
       "      <td>467.66</td>\n",
       "      <td>86.0</td>\n",
       "      <td>21060.45</td>\n",
       "      <td>0</td>\n",
       "    </tr>\n",
       "    <tr>\n",
       "      <th>3</th>\n",
       "      <td>106.0</td>\n",
       "      <td>745.53</td>\n",
       "      <td>81.0</td>\n",
       "      <td>8437.39</td>\n",
       "      <td>1</td>\n",
       "    </tr>\n",
       "    <tr>\n",
       "      <th>4</th>\n",
       "      <td>66.0</td>\n",
       "      <td>418.74</td>\n",
       "      <td>1.0</td>\n",
       "      <td>14502.75</td>\n",
       "      <td>0</td>\n",
       "    </tr>\n",
       "  </tbody>\n",
       "</table>\n",
       "</div>"
      ],
      "text/plain": [
       "   calls  minutes  messages   mb_used  is_ultra\n",
       "0   40.0   311.90      83.0  19915.42         0\n",
       "1   85.0   516.75      56.0  22696.96         0\n",
       "2   77.0   467.66      86.0  21060.45         0\n",
       "3  106.0   745.53      81.0   8437.39         1\n",
       "4   66.0   418.74       1.0  14502.75         0"
      ]
     },
     "execution_count": 5,
     "metadata": {},
     "output_type": "execute_result"
    }
   ],
   "source": [
    "df.head()"
   ]
  },
  {
   "cell_type": "code",
   "execution_count": 6,
   "metadata": {},
   "outputs": [
    {
     "data": {
      "text/plain": [
       "0    2229\n",
       "1     985\n",
       "Name: is_ultra, dtype: int64"
      ]
     },
     "execution_count": 6,
     "metadata": {},
     "output_type": "execute_result"
    }
   ],
   "source": [
    "# Количество клиентов, пользующихся разными тарифами\n",
    "df['is_ultra'].value_counts()"
   ]
  },
  {
   "cell_type": "markdown",
   "metadata": {},
   "source": [
    "## Выводы\n",
    "1. Имеем таблицу из 3214 объектов и 5 признаков.\n",
    "2. Для решения задачи выберем целевой признак - 'is_ultra', т.е. будем предсказывать какой тариф будет подходить при определенном наборе остальных признаков. \n",
    "3. C учетом того, что целевой признак бинарный будем применять методы бинарной классификации\n",
    "4. Таблица полная, пропусков нет.\n",
    "5. Данные не являются полностью сбаланисированными, т.к. целевой признак разделен как 1:2 "
   ]
  },
  {
   "cell_type": "markdown",
   "metadata": {},
   "source": [
    "# 2. Разбитие данных на выборки"
   ]
  },
  {
   "cell_type": "code",
   "execution_count": 7,
   "metadata": {},
   "outputs": [],
   "source": [
    "# Разделение данных на на обучающую, валидационную и тестовую выборки в пропорции 3:1:1\n",
    "train, test = train_test_split(df, test_size=0.2, random_state=42)\n",
    "train, validate = train_test_split(train, test_size=0.25, random_state=42)"
   ]
  },
  {
   "cell_type": "code",
   "execution_count": 8,
   "metadata": {},
   "outputs": [
    {
     "data": {
      "text/plain": [
       "3214"
      ]
     },
     "execution_count": 8,
     "metadata": {},
     "output_type": "execute_result"
    }
   ],
   "source": [
    "# Проврерка размеров датафреймов\n",
    "len(train)+len(validate)+len(test)"
   ]
  },
  {
   "cell_type": "markdown",
   "metadata": {},
   "source": [
    "    Сумма размеров трех полученных датафреймов равна размеру исходных данных"
   ]
  },
  {
   "cell_type": "markdown",
   "metadata": {},
   "source": [
    "# 3. Исследование моделей\n"
   ]
  },
  {
   "cell_type": "markdown",
   "metadata": {},
   "source": [
    "Подготовим переменные для цели и признаков"
   ]
  },
  {
   "cell_type": "code",
   "execution_count": 9,
   "metadata": {},
   "outputs": [],
   "source": [
    "train_features = train.drop(['is_ultra'], axis=1)\n",
    "train_target = train['is_ultra'].values\n",
    "validate_features = validate.drop(['is_ultra'], axis=1)\n",
    "validate_target = validate['is_ultra'].values\n",
    "test_features = test.drop(['is_ultra'], axis=1)\n",
    "test_target = test['is_ultra'].values"
   ]
  },
  {
   "cell_type": "markdown",
   "metadata": {},
   "source": [
    "## Метод \"решающего дерева\""
   ]
  },
  {
   "cell_type": "code",
   "execution_count": 10,
   "metadata": {},
   "outputs": [
    {
     "name": "stdout",
     "output_type": "stream",
     "text": [
      "Accuracy на валидационной выборке: 0.7231726283048211\n"
     ]
    }
   ],
   "source": [
    "# Обучение модели на тренировочных данных при гипрпарамтрах по умолчанию\n",
    "model = DecisionTreeClassifier(random_state=43)\n",
    "model.fit(train_features, train_target)\n",
    "\n",
    "validate_predictions = model.predict(validate_features)\n",
    "# Доля правильных ответов для валидационной выборки при параметрах по умолчанию \n",
    "print('Accuracy на валидационной выборке:', accuracy_score(validate_target, validate_predictions))"
   ]
  },
  {
   "cell_type": "markdown",
   "metadata": {},
   "source": [
    "Будем менять значение максимальной глубины дерева в пределах от 1 до 4, учитывая, что количество парметров в модели - 4"
   ]
  },
  {
   "cell_type": "code",
   "execution_count": 11,
   "metadata": {},
   "outputs": [
    {
     "name": "stdout",
     "output_type": "stream",
     "text": [
      "max_depth = 1 :  0.7418351477449455\n",
      "max_depth = 2 :  0.7744945567651633\n",
      "max_depth = 3 :  0.7744945567651633\n",
      "max_depth = 4 :  0.7807153965785381\n",
      "max_depth = 5 :  0.7713841368584758\n",
      "Accuracy наилучшей модели на валидационной выборке: 0.7807153965785381\n"
     ]
    }
   ],
   "source": [
    "best_model = None\n",
    "best_result = 0\n",
    "for depth in range(1, 6):\n",
    "    model = DecisionTreeClassifier(random_state=43, max_depth=depth)\n",
    "    model.fit(train_features, train_target)\n",
    "    validate_predictions = model.predict(validate_features)\n",
    "    result = model.score(validate_features, validate_target) \n",
    "    print(\"max_depth =\", depth, \": \", result)\n",
    "    if result > best_result:\n",
    "        best_model = model\n",
    "        best_result = result\n",
    "        \n",
    "print(\"Accuracy наилучшей модели на валидационной выборке:\", best_result)\n"
   ]
  },
  {
   "cell_type": "markdown",
   "metadata": {},
   "source": [
    "## Метод \"случайный лес\""
   ]
  },
  {
   "cell_type": "code",
   "execution_count": 12,
   "metadata": {},
   "outputs": [
    {
     "name": "stdout",
     "output_type": "stream",
     "text": [
      "Accuracy на валидационной выборке: 0.7853810264385692\n"
     ]
    }
   ],
   "source": [
    "# Обучение модели на тренировочных данных при гипрпарамтрах по умолчанию\n",
    "model = RandomForestClassifier(random_state=43)\n",
    "model.fit(train_features, train_target)\n",
    "\n",
    "validate_predictions = model.predict(validate_features)\n",
    "# Доля правильных ответов для тестовой выборки при параметрах по умолчанию \n",
    "print('Accuracy на валидационной выборке:', accuracy_score(validate_target, validate_predictions))"
   ]
  },
  {
   "cell_type": "markdown",
   "metadata": {},
   "source": [
    "Будем менять значение числа деревьев в пределах от 1 до 20."
   ]
  },
  {
   "cell_type": "code",
   "execution_count": 13,
   "metadata": {
    "scrolled": true
   },
   "outputs": [
    {
     "name": "stdout",
     "output_type": "stream",
     "text": [
      "estimators = 1 :  0.7107309486780715\n",
      "estimators = 2 :  0.7573872472783826\n",
      "estimators = 3 :  0.7402799377916018\n",
      "estimators = 4 :  0.776049766718507\n",
      "estimators = 5 :  0.7667185069984448\n",
      "estimators = 6 :  0.7807153965785381\n",
      "estimators = 7 :  0.7713841368584758\n",
      "estimators = 8 :  0.7869362363919129\n",
      "estimators = 9 :  0.7791601866251944\n",
      "estimators = 10 :  0.7791601866251944\n",
      "estimators = 11 :  0.7822706065318819\n",
      "estimators = 12 :  0.7900466562986003\n",
      "estimators = 13 :  0.7884914463452566\n",
      "estimators = 14 :  0.7822706065318819\n",
      "estimators = 15 :  0.7884914463452566\n",
      "estimators = 16 :  0.7838258164852255\n",
      "estimators = 17 :  0.7869362363919129\n",
      "estimators = 18 :  0.7838258164852255\n",
      "estimators = 19 :  0.7822706065318819\n",
      "Accuracy наилучшей модели на валидационной выборке: 0.7900466562986003\n"
     ]
    }
   ],
   "source": [
    "best_model = None\n",
    "best_result = 0\n",
    "for est in range(1, 20):\n",
    "    model = RandomForestClassifier(random_state=43, n_estimators=est) \n",
    "    model.fit(train_features, train_target) \n",
    "    result = model.score(validate_features, validate_target)\n",
    "    print(\"estimators =\", est, \": \", result)\n",
    "    if result > best_result:\n",
    "        best_model = model \n",
    "        best_result = result \n",
    "        \n",
    "print(\"Accuracy наилучшей модели на валидационной выборке:\", best_result)\n"
   ]
  },
  {
   "cell_type": "markdown",
   "metadata": {},
   "source": [
    "## Метод \"логистическая регрессия\""
   ]
  },
  {
   "cell_type": "code",
   "execution_count": 14,
   "metadata": {},
   "outputs": [
    {
     "name": "stdout",
     "output_type": "stream",
     "text": [
      "Accuracy на валидационной выборке: 0.7200622083981337\n"
     ]
    }
   ],
   "source": [
    "model = LogisticRegression(random_state=43)\n",
    "model.fit(train_features, train_target)\n",
    "result = model.score(validate_features, validate_target)\n",
    "\n",
    "print(\"Accuracy на валидационной выборке:\", result)"
   ]
  },
  {
   "cell_type": "markdown",
   "metadata": {},
   "source": [
    "Изменим алгоритм построения модели на более подходящий для небольшого размера данных"
   ]
  },
  {
   "cell_type": "code",
   "execution_count": 15,
   "metadata": {},
   "outputs": [
    {
     "name": "stdout",
     "output_type": "stream",
     "text": [
      "Accuracy модели логистической регрессии на валидационной выборке: 0.7231726283048211\n"
     ]
    }
   ],
   "source": [
    "model = LogisticRegression(random_state=43, solver='liblinear')\n",
    "model.fit(train_features, train_target)\n",
    "result = model.score(validate_features, validate_target)\n",
    "print(\"Accuracy модели логистической регрессии на валидационной выборке:\", result)"
   ]
  },
  {
   "cell_type": "markdown",
   "metadata": {},
   "source": [
    "## Выводы\n",
    "Ни одна из моделей не показала переобучения и недоучения.\n",
    "Во всех 3 методах моделирования результыты, полученные при значения по умолчанию можно улучшить изменяя гиперпараметры модели.\n",
    "При использовании моделей на валидационных выборках мы получили следующие результаты **accuracy** :\n",
    "1. Метод \"решающего дерева\" - 0,78 (при глубине 4)\n",
    "2. Метод \"случайный лес\" - 0,79 (при числе деревьев 12)\n",
    "3. Метод \"логистическая регрессия\" - 0,722 (при алгоритме построения \"liblinear\")\n",
    "\n",
    "**Наилучшей моделью является \"случайный лес\" при количестве дереьев 16**"
   ]
  },
  {
   "cell_type": "markdown",
   "metadata": {},
   "source": [
    "# 4. Исследование наилучшей модели"
   ]
  },
  {
   "cell_type": "markdown",
   "metadata": {},
   "source": [
    "Проверим качество модели Запустим модели \"случайный лес\" при количестве дереьев 16 на тестовой выборке"
   ]
  },
  {
   "cell_type": "code",
   "execution_count": 16,
   "metadata": {
    "scrolled": true
   },
   "outputs": [
    {
     "name": "stdout",
     "output_type": "stream",
     "text": [
      "              precision    recall  f1-score   support\n",
      "\n",
      "       Smart       0.83      0.90      0.86       455\n",
      "       Ultra       0.70      0.54      0.61       188\n",
      "\n",
      "    accuracy                           0.80       643\n",
      "   macro avg       0.76      0.72      0.73       643\n",
      "weighted avg       0.79      0.80      0.79       643\n",
      "\n"
     ]
    }
   ],
   "source": [
    "model = RandomForestClassifier(random_state=43, n_estimators=16) \n",
    "model.fit(train_features, train_target) \n",
    "\n",
    "report = classification_report(test_target, model.predict(test_features), target_names=['Smart', 'Ultra'])\n",
    "print(report)"
   ]
  },
  {
   "cell_type": "markdown",
   "metadata": {},
   "source": [
    "## Выводы\n",
    "1. Доля правильных ответов - 0.8, что по условиям исследования достаточно.\n",
    "2. Долю объектов, названных классификатором положительными и при этом действительно являющимися положительными для наибольшего класса - 0.83, что удолетворительно\n",
    "3. Доля объектов положительного класса из всех объектов положительного класса - 0.9, что хорошо\n",
    "4. Соотношение классов в тестовой выборке также сохранилось\n"
   ]
  },
  {
   "cell_type": "markdown",
   "metadata": {},
   "source": [
    "# 5. Проверка модели на адекватность"
   ]
  },
  {
   "cell_type": "markdown",
   "metadata": {},
   "source": [
    "Cравним качество модели с качеством константной модели."
   ]
  },
  {
   "cell_type": "code",
   "execution_count": 17,
   "metadata": {},
   "outputs": [
    {
     "data": {
      "image/png": "[encoded data removed]",
      "text/plain": [
       "<Figure size 720x576 with 1 Axes>"
      ]
     },
     "metadata": {},
     "output_type": "display_data"
    }
   ],
   "source": [
    "sns.set(font_scale=1.5)\n",
    "sns.set_color_codes(\"muted\")\n",
    "\n",
    "plt.figure(figsize=(10, 8))\n",
    "fpr, tpr, thresholds = roc_curve(test_target, model.predict_proba(test_features)[:,1], pos_label=1)\n",
    "lw = 2\n",
    "plt.plot(fpr, tpr, lw=lw, label='ROC curve ')\n",
    "plt.plot([0, 1], [0, 1])\n",
    "plt.xlim([0.0, 1.0])\n",
    "plt.ylim([0.0, 1.05])\n",
    "plt.xlabel('False Positive Rate')\n",
    "plt.ylabel('True Positive Rate')\n",
    "plt.title('ROC curve')\n",
    "plt.show()"
   ]
  },
  {
   "cell_type": "markdown",
   "metadata": {},
   "source": [
    "## Выводы \n",
    "Модель вменяема и по качеству значительно превосходит константную модель"
   ]
  },
  {
   "cell_type": "markdown",
   "metadata": {},
   "source": [
    "# Общий вывод\n",
    "\n",
    "**В ходе исследования предоставленные данные были разделены на 3 датасета : тренировочный, валидационный и тестовый\". Были построены 3 модели и была выбрана лучшая по критерию \"accuracy\". Ей стала модель на основе \"Случайного леса\" с количеством деревьев 16.\n",
    "Модель прошла на тестовой выборке проверку на качество и адекватность. Может использоваться для выбора тарифа на основе предпочтений абонента**\n",
    "\n"
   ]
  }
 ],
 "metadata": {
  "kernelspec": {
   "display_name": "Python 3",
   "language": "python",
   "name": "python3"
  },
  "language_info": {
   "codemirror_mode": {
    "name": "ipython",
    "version": 3
   },
   "file_extension": ".py",
   "mimetype": "text/x-python",
   "name": "python",
   "nbconvert_exporter": "python",
   "pygments_lexer": "ipython3",
   "version": "3.8.3"
  }
 },
 "nbformat": 4,
 "nbformat_minor": 4
}
