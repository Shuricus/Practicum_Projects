{
 "cells": [
  {
   "cell_type": "markdown",
   "metadata": {},
   "source": [
    "# Описание проекта\n",
    "\n",
    "Добывающей компании нужно решить, где бурить новую скважину.\n",
    "\n",
    "Для решения задачи предоставлены пробы нефти в трёх регионах: в каждом 10 000 месторождений, где измерили качество нефти и объём её запасов. Надо построить модель машинного обучения, которая поможет определить регион, где добыча принесёт наибольшую прибыль. Проанализировать возможную прибыль и риски техникой Bootstrap.\n",
    "\n",
    "Шаги для выбора локации:\n",
    "\n",
    "* В избранном регионе ищут месторождения, для каждого определяют значения признаков;\n",
    "* Строят модель и оценивают объём запасов;\n",
    "* Выбирают месторождения с самым высокими оценками значений. Количество месторождений зависит от бюджета компании и стоимости разработки одной скважины;\n",
    "* Прибыль равна суммарной прибыли отобранных месторождений.\n",
    "\n",
    "Условия задачи:\n",
    "\n",
    "* Для обучения модели подходит только линейная регрессия (остальные — недостаточно предсказуемые).\n",
    "* При разведке региона исследуют 500 точек, из которых с помощью машинного обучения выбирают 200 лучших для разработки.\n",
    "* Бюджет на разработку скважин в регионе — 10 млрд рублей.\n",
    "* При нынешних ценах один баррель сырья приносит 450 рублей дохода. Доход с каждой единицы продукта составляет 450 тыс. рублей, поскольку объём указан в тысячах баррелей.\n",
    "* После оценки рисков нужно оставить лишь те регионы, в которых вероятность убытков меньше 2.5%. Среди них выбирают регион с наибольшей средней прибылью."
   ]
  },
  {
   "cell_type": "markdown",
   "metadata": {},
   "source": [
    "# 1. Загрузка и подготовка данных\n",
    "Данные геологоразведки трёх регионов находятся в файлах:\n",
    "* /datasets/geo_data_0.csv \n",
    "* /datasets/geo_data_1.csv \n",
    "* /datasets/geo_data_2.csv\n",
    "\n",
    "* id — уникальный идентификатор скважины;\n",
    "* f0, f1, f2 — три признака точек (неважно, что они означают, но сами признаки значимы);\n",
    "* product — объём запасов в скважине (тыс. баррелей)"
   ]
  },
  {
   "cell_type": "code",
   "execution_count": 1,
   "metadata": {},
   "outputs": [],
   "source": [
    "# Загрузка необходимых библиотек и таблиц с данными\n",
    "import pandas as pd  \n",
    "import numpy as np \n",
    "from scipy import stats as st\n",
    "\n",
    "from sklearn.model_selection import train_test_split \n",
    "from sklearn.linear_model import LinearRegression\n",
    "from sklearn import metrics\n",
    "from sklearn.metrics import mean_squared_error\n",
    "\n",
    "df0 = pd.read_csv('geo_data_0.csv')\n",
    "df1 = pd.read_csv('geo_data_1.csv')\n",
    "df2 = pd.read_csv('geo_data_2.csv')"
   ]
  },
  {
   "cell_type": "code",
   "execution_count": 2,
   "metadata": {},
   "outputs": [
    {
     "name": "stdout",
     "output_type": "stream",
     "text": [
      "Образец\n"
     ]
    },
    {
     "data": {
      "text/html": [
       "<div>\n",
       "<style scoped>\n",
       "    .dataframe tbody tr th:only-of-type {\n",
       "        vertical-align: middle;\n",
       "    }\n",
       "\n",
       "    .dataframe tbody tr th {\n",
       "        vertical-align: top;\n",
       "    }\n",
       "\n",
       "    .dataframe thead th {\n",
       "        text-align: right;\n",
       "    }\n",
       "</style>\n",
       "<table border=\"1\" class=\"dataframe\">\n",
       "  <thead>\n",
       "    <tr style=\"text-align: right;\">\n",
       "      <th></th>\n",
       "      <th>id</th>\n",
       "      <th>f0</th>\n",
       "      <th>f1</th>\n",
       "      <th>f2</th>\n",
       "      <th>product</th>\n",
       "    </tr>\n",
       "  </thead>\n",
       "  <tbody>\n",
       "    <tr>\n",
       "      <th>0</th>\n",
       "      <td>txEyH</td>\n",
       "      <td>0.705745</td>\n",
       "      <td>-0.497823</td>\n",
       "      <td>1.221170</td>\n",
       "      <td>105.280062</td>\n",
       "    </tr>\n",
       "    <tr>\n",
       "      <th>1</th>\n",
       "      <td>2acmU</td>\n",
       "      <td>1.334711</td>\n",
       "      <td>-0.340164</td>\n",
       "      <td>4.365080</td>\n",
       "      <td>73.037750</td>\n",
       "    </tr>\n",
       "    <tr>\n",
       "      <th>2</th>\n",
       "      <td>409Wp</td>\n",
       "      <td>1.022732</td>\n",
       "      <td>0.151990</td>\n",
       "      <td>1.419926</td>\n",
       "      <td>85.265647</td>\n",
       "    </tr>\n",
       "    <tr>\n",
       "      <th>3</th>\n",
       "      <td>iJLyR</td>\n",
       "      <td>-0.032172</td>\n",
       "      <td>0.139033</td>\n",
       "      <td>2.978566</td>\n",
       "      <td>168.620776</td>\n",
       "    </tr>\n",
       "    <tr>\n",
       "      <th>4</th>\n",
       "      <td>Xdl7t</td>\n",
       "      <td>1.988431</td>\n",
       "      <td>0.155413</td>\n",
       "      <td>4.751769</td>\n",
       "      <td>154.036647</td>\n",
       "    </tr>\n",
       "  </tbody>\n",
       "</table>\n",
       "</div>"
      ],
      "text/plain": [
       "      id        f0        f1        f2     product\n",
       "0  txEyH  0.705745 -0.497823  1.221170  105.280062\n",
       "1  2acmU  1.334711 -0.340164  4.365080   73.037750\n",
       "2  409Wp  1.022732  0.151990  1.419926   85.265647\n",
       "3  iJLyR -0.032172  0.139033  2.978566  168.620776\n",
       "4  Xdl7t  1.988431  0.155413  4.751769  154.036647"
      ]
     },
     "metadata": {},
     "output_type": "display_data"
    },
    {
     "name": "stdout",
     "output_type": "stream",
     "text": [
      "Основные характеристики\n",
      "                  f0             f1             f2        product\n",
      "count  100000.000000  100000.000000  100000.000000  100000.000000\n",
      "mean        0.500419       0.250143       2.502647      92.500000\n",
      "std         0.871832       0.504433       3.248248      44.288691\n",
      "min        -1.408605      -0.848218     -12.088328       0.000000\n",
      "25%        -0.072580      -0.200881       0.287748      56.497507\n",
      "50%         0.502360       0.250252       2.515969      91.849972\n",
      "75%         1.073581       0.700646       4.715088     128.564089\n",
      "max         2.362331       1.343769      16.003790     185.364347\n",
      "Пропуски в данных -  False\n",
      "Образец\n"
     ]
    },
    {
     "data": {
      "text/html": [
       "<div>\n",
       "<style scoped>\n",
       "    .dataframe tbody tr th:only-of-type {\n",
       "        vertical-align: middle;\n",
       "    }\n",
       "\n",
       "    .dataframe tbody tr th {\n",
       "        vertical-align: top;\n",
       "    }\n",
       "\n",
       "    .dataframe thead th {\n",
       "        text-align: right;\n",
       "    }\n",
       "</style>\n",
       "<table border=\"1\" class=\"dataframe\">\n",
       "  <thead>\n",
       "    <tr style=\"text-align: right;\">\n",
       "      <th></th>\n",
       "      <th>id</th>\n",
       "      <th>f0</th>\n",
       "      <th>f1</th>\n",
       "      <th>f2</th>\n",
       "      <th>product</th>\n",
       "    </tr>\n",
       "  </thead>\n",
       "  <tbody>\n",
       "    <tr>\n",
       "      <th>0</th>\n",
       "      <td>kBEdx</td>\n",
       "      <td>-15.001348</td>\n",
       "      <td>-8.276000</td>\n",
       "      <td>-0.005876</td>\n",
       "      <td>3.179103</td>\n",
       "    </tr>\n",
       "    <tr>\n",
       "      <th>1</th>\n",
       "      <td>62mP7</td>\n",
       "      <td>14.272088</td>\n",
       "      <td>-3.475083</td>\n",
       "      <td>0.999183</td>\n",
       "      <td>26.953261</td>\n",
       "    </tr>\n",
       "    <tr>\n",
       "      <th>2</th>\n",
       "      <td>vyE1P</td>\n",
       "      <td>6.263187</td>\n",
       "      <td>-5.948386</td>\n",
       "      <td>5.001160</td>\n",
       "      <td>134.766305</td>\n",
       "    </tr>\n",
       "    <tr>\n",
       "      <th>3</th>\n",
       "      <td>KcrkZ</td>\n",
       "      <td>-13.081196</td>\n",
       "      <td>-11.506057</td>\n",
       "      <td>4.999415</td>\n",
       "      <td>137.945408</td>\n",
       "    </tr>\n",
       "    <tr>\n",
       "      <th>4</th>\n",
       "      <td>AHL4O</td>\n",
       "      <td>12.702195</td>\n",
       "      <td>-8.147433</td>\n",
       "      <td>5.004363</td>\n",
       "      <td>134.766305</td>\n",
       "    </tr>\n",
       "  </tbody>\n",
       "</table>\n",
       "</div>"
      ],
      "text/plain": [
       "      id         f0         f1        f2     product\n",
       "0  kBEdx -15.001348  -8.276000 -0.005876    3.179103\n",
       "1  62mP7  14.272088  -3.475083  0.999183   26.953261\n",
       "2  vyE1P   6.263187  -5.948386  5.001160  134.766305\n",
       "3  KcrkZ -13.081196 -11.506057  4.999415  137.945408\n",
       "4  AHL4O  12.702195  -8.147433  5.004363  134.766305"
      ]
     },
     "metadata": {},
     "output_type": "display_data"
    },
    {
     "name": "stdout",
     "output_type": "stream",
     "text": [
      "Основные характеристики\n",
      "                  f0             f1             f2        product\n",
      "count  100000.000000  100000.000000  100000.000000  100000.000000\n",
      "mean        1.141296      -4.796579       2.494541      68.825000\n",
      "std         8.965932       5.119872       1.703572      45.944423\n",
      "min       -31.609576     -26.358598      -0.018144       0.000000\n",
      "25%        -6.298551      -8.267985       1.000021      26.953261\n",
      "50%         1.153055      -4.813172       2.011479      57.085625\n",
      "75%         8.621015      -1.332816       3.999904     107.813044\n",
      "max        29.421755      18.734063       5.019721     137.945408\n",
      "Пропуски в данных -  False\n",
      "Образец\n"
     ]
    },
    {
     "data": {
      "text/html": [
       "<div>\n",
       "<style scoped>\n",
       "    .dataframe tbody tr th:only-of-type {\n",
       "        vertical-align: middle;\n",
       "    }\n",
       "\n",
       "    .dataframe tbody tr th {\n",
       "        vertical-align: top;\n",
       "    }\n",
       "\n",
       "    .dataframe thead th {\n",
       "        text-align: right;\n",
       "    }\n",
       "</style>\n",
       "<table border=\"1\" class=\"dataframe\">\n",
       "  <thead>\n",
       "    <tr style=\"text-align: right;\">\n",
       "      <th></th>\n",
       "      <th>id</th>\n",
       "      <th>f0</th>\n",
       "      <th>f1</th>\n",
       "      <th>f2</th>\n",
       "      <th>product</th>\n",
       "    </tr>\n",
       "  </thead>\n",
       "  <tbody>\n",
       "    <tr>\n",
       "      <th>0</th>\n",
       "      <td>fwXo0</td>\n",
       "      <td>-1.146987</td>\n",
       "      <td>0.963328</td>\n",
       "      <td>-0.828965</td>\n",
       "      <td>27.758673</td>\n",
       "    </tr>\n",
       "    <tr>\n",
       "      <th>1</th>\n",
       "      <td>WJtFt</td>\n",
       "      <td>0.262778</td>\n",
       "      <td>0.269839</td>\n",
       "      <td>-2.530187</td>\n",
       "      <td>56.069697</td>\n",
       "    </tr>\n",
       "    <tr>\n",
       "      <th>2</th>\n",
       "      <td>ovLUW</td>\n",
       "      <td>0.194587</td>\n",
       "      <td>0.289035</td>\n",
       "      <td>-5.586433</td>\n",
       "      <td>62.871910</td>\n",
       "    </tr>\n",
       "    <tr>\n",
       "      <th>3</th>\n",
       "      <td>q6cA6</td>\n",
       "      <td>2.236060</td>\n",
       "      <td>-0.553760</td>\n",
       "      <td>0.930038</td>\n",
       "      <td>114.572842</td>\n",
       "    </tr>\n",
       "    <tr>\n",
       "      <th>4</th>\n",
       "      <td>WPMUX</td>\n",
       "      <td>-0.515993</td>\n",
       "      <td>1.716266</td>\n",
       "      <td>5.899011</td>\n",
       "      <td>149.600746</td>\n",
       "    </tr>\n",
       "  </tbody>\n",
       "</table>\n",
       "</div>"
      ],
      "text/plain": [
       "      id        f0        f1        f2     product\n",
       "0  fwXo0 -1.146987  0.963328 -0.828965   27.758673\n",
       "1  WJtFt  0.262778  0.269839 -2.530187   56.069697\n",
       "2  ovLUW  0.194587  0.289035 -5.586433   62.871910\n",
       "3  q6cA6  2.236060 -0.553760  0.930038  114.572842\n",
       "4  WPMUX -0.515993  1.716266  5.899011  149.600746"
      ]
     },
     "metadata": {},
     "output_type": "display_data"
    },
    {
     "name": "stdout",
     "output_type": "stream",
     "text": [
      "Основные характеристики\n",
      "                  f0             f1             f2        product\n",
      "count  100000.000000  100000.000000  100000.000000  100000.000000\n",
      "mean        0.002023      -0.002081       2.495128      95.000000\n",
      "std         1.732045       1.730417       3.473445      44.749921\n",
      "min        -8.760004      -7.084020     -11.970335       0.000000\n",
      "25%        -1.162288      -1.174820       0.130359      59.450441\n",
      "50%         0.009424      -0.009482       2.484236      94.925613\n",
      "75%         1.158535       1.163678       4.858794     130.595027\n",
      "max         7.238262       7.844801      16.739402     190.029838\n",
      "Пропуски в данных -  False\n"
     ]
    }
   ],
   "source": [
    "# Анализ исходных данных\n",
    "df = [df0,df1,df2]\n",
    "for i in df:\n",
    "    print('Образец')\n",
    "    display(i.head())\n",
    "    print('Основные характеристики')\n",
    "    print(i.describe())\n",
    "    print('Пропуски в данных - ', df0.isnull().values.any())"
   ]
  },
  {
   "cell_type": "markdown",
   "metadata": {},
   "source": [
    "# Вывод\n",
    "Все три таблицы исходных данных:\n",
    "- имеют одинаковую структуру и размеры\n",
    "- данные (features) не нуждаются в масштабировании\n",
    "- целевой признак имеет распределение близкое к нормальному (среднее и медиана близки)\n",
    "- столбец id не нужен для построения модели"
   ]
  },
  {
   "cell_type": "markdown",
   "metadata": {},
   "source": [
    "# 2. Обучение и проверка модели"
   ]
  },
  {
   "cell_type": "markdown",
   "metadata": {},
   "source": [
    "### 2.1. Разбиение данные на обучающую и валидационную выборки в соотношении 75:25."
   ]
  },
  {
   "cell_type": "code",
   "execution_count": 2,
   "metadata": {},
   "outputs": [],
   "source": [
    "# Удаляем не нужный столбец\n",
    "df0 = df0.drop(['id'], axis=1).copy()\n",
    "df1 = df1.drop(['id'], axis=1).copy()\n",
    "df2 = df2.drop(['id'], axis=1).copy()\n",
    "# Извлекаем признаки\n",
    "features_df0 = df0.drop(['product'], axis=1)\n",
    "features_df1 = df1.drop(['product'], axis=1)\n",
    "features_df2 = df2.drop(['product'], axis=1)\n",
    "# Извлекаем целевой признак\n",
    "target_df0 = df0['product']\n",
    "target_df1 = df1['product']\n",
    "target_df2 = df2['product']\n",
    "\n",
    "# Разбиваем выборку\n",
    "features_train_df0, features_valid_df0, target_train_df0, target_valid_df0 = train_test_split(\n",
    "    features_df0, target_df0, test_size=0.25, random_state=42) \n",
    "features_train_df1, features_valid_df1, target_train_df1, target_valid_df1 = train_test_split(\n",
    "    features_df1, target_df1, test_size=0.25, random_state=42) \n",
    "features_train_df2, features_valid_df2, target_train_df2, target_valid_df2 = train_test_split(\n",
    "    features_df2, target_df2, test_size=0.25, random_state=42) "
   ]
  },
  {
   "cell_type": "markdown",
   "metadata": {},
   "source": [
    "### 2.2. Обучение модели и предсказания на валидационной выборке."
   ]
  },
  {
   "cell_type": "code",
   "execution_count": 3,
   "metadata": {},
   "outputs": [
    {
     "name": "stdout",
     "output_type": "stream",
     "text": [
      "Регион 1\n",
      "Средний запас предсказанного сырья: 92.3987999065781\n",
      "RMSE модели линейной регрессии на валидационной выборке: 37.75660035026169\n"
     ]
    }
   ],
   "source": [
    "model = LinearRegression()\n",
    "model.fit(features_train_df0, target_train_df0) \n",
    "predict_valid_df0 = model.predict(features_valid_df0)\n",
    "predict_valid_df0 = pd.Series(predict_valid_df0)\n",
    "target_valid_df0 = target_valid_df0.reset_index(drop=True)\n",
    "print('Регион 1')\n",
    "print('Средний запас предсказанного сырья:', predict_valid_df0.mean())\n",
    "print(\"RMSE модели линейной регрессии на валидационной выборке:\",\n",
    "      mean_squared_error(target_valid_df0, predict_valid_df0, squared=False))"
   ]
  },
  {
   "cell_type": "code",
   "execution_count": 4,
   "metadata": {},
   "outputs": [
    {
     "name": "stdout",
     "output_type": "stream",
     "text": [
      "Регион 2\n",
      "Средний запас предсказанного сырья: 68.71287803913762\n",
      "RMSE модели линейной регрессии на валидационной выборке: 0.8902801001028849\n"
     ]
    }
   ],
   "source": [
    "model = LinearRegression()\n",
    "model.fit(features_train_df1, target_train_df1) \n",
    "predict_valid_df1 = model.predict(features_valid_df1)\n",
    "predict_valid_df1 = pd.Series(predict_valid_df1)\n",
    "target_valid_df1 = target_valid_df1.reset_index(drop=True)\n",
    "print('Регион 2')\n",
    "print('Средний запас предсказанного сырья:', predict_valid_df1.mean())\n",
    "print(\"RMSE модели линейной регрессии на валидационной выборке:\",\n",
    "      mean_squared_error(target_valid_df1, predict_valid_df1, squared=False))"
   ]
  },
  {
   "cell_type": "code",
   "execution_count": 5,
   "metadata": {
    "scrolled": true
   },
   "outputs": [
    {
     "name": "stdout",
     "output_type": "stream",
     "text": [
      "Регион 3\n",
      "Средний запас предсказанного сырья: 94.77102387765996\n",
      "RMSE модели линейной регрессии на валидационной выборке: 40.145872311342174\n"
     ]
    }
   ],
   "source": [
    "model = LinearRegression()\n",
    "model.fit(features_train_df2, target_train_df2) \n",
    "predict_valid_df2 = model.predict(features_valid_df2)\n",
    "predict_valid_df2 = pd.Series(predict_valid_df2)\n",
    "target_valid_df2 = target_valid_df2.reset_index(drop=True)\n",
    "print('Регион 3')\n",
    "print('Средний запас предсказанного сырья:', predict_valid_df2.mean())\n",
    "print(\"RMSE модели линейной регрессии на валидационной выборке:\",\n",
    "      mean_squared_error(target_valid_df2, predict_valid_df2, squared=False))"
   ]
  },
  {
   "cell_type": "markdown",
   "metadata": {},
   "source": [
    "### Выводы\n",
    "Наибольший средний запас предсказанного сырья в Регионе2.\n",
    "Среднеквадратичная ошибка модели минимальна для модели по Региону 1"
   ]
  },
  {
   "cell_type": "markdown",
   "metadata": {},
   "source": [
    "# 3. Подготовка к расчёту прибыли"
   ]
  },
  {
   "cell_type": "code",
   "execution_count": 7,
   "metadata": {},
   "outputs": [],
   "source": [
    "# Данные для расчетов (суммы будут в млн. руб)\n",
    "BUDGET = 10000 # Бюджет на разработку скважин в регионе\n",
    "POINTS = 500 # Количество точек при разведке региона\n",
    "BEST_POINTS = 200 # Количество лучших точек \n",
    "REVENUE_ONE = 0.45 # Доход с каждой единицы продукта\n",
    "PROBABILITY_OF_LOSS = 0.025 # Граница вероятности убытков\n"
   ]
  },
  {
   "cell_type": "code",
   "execution_count": 8,
   "metadata": {},
   "outputs": [
    {
     "name": "stdout",
     "output_type": "stream",
     "text": [
      "Стоимость разработки одной скважины 50.0 млн. руб\n",
      "Для этого необходимо добыть продукта 111.11111111111111 единиц\n"
     ]
    }
   ],
   "source": [
    "print('Стоимость разработки одной скважины', BUDGET / BEST_POINTS, 'млн. руб')\n",
    "print('Для этого необходимо добыть продукта', BUDGET / BEST_POINTS / REVENUE_ONE, 'единиц')"
   ]
  },
  {
   "cell_type": "markdown",
   "metadata": {},
   "source": [
    "Достаточный объём сырья для безубыточной разработки новой скважины - 111,11, при этом полученный объём сырья со средним запасом в регионах равен 92.40, 68.71, 94.77. Что меньше, чем безубыточный объем."
   ]
  },
  {
   "cell_type": "code",
   "execution_count": 9,
   "metadata": {},
   "outputs": [],
   "source": [
    "# Функция расчета прибыли\n",
    "def revenue(target, probabilities, count):\n",
    "    probabilities = pd.Series(probabilities)\n",
    "    probs_sorted = probabilities.sort_values(ascending=False)\n",
    "    selected = target[probs_sorted.index][:count]\n",
    "    return REVENUE_ONE * selected.sum() - BUDGET"
   ]
  },
  {
   "cell_type": "markdown",
   "metadata": {},
   "source": [
    "### Вывод\n",
    "* Достаточный объём сырья для безубыточной разработки новой скважины - 111,11 бареллей, что больше, чем объём сырья со средним запасом в регионах.\n",
    "* Написана функция расчета прибыли, которая на вход принимает данные по скважинам, количество лучших  и возвращает суммарную прибыль по лучшим скважинам."
   ]
  },
  {
   "cell_type": "markdown",
   "metadata": {},
   "source": [
    "# 4. Расчёт прибыли и рисков"
   ]
  },
  {
   "cell_type": "markdown",
   "metadata": {},
   "source": [
    "Напишем функцию для расчета основных параметров: средней выручки, доверительного интервала и вероятности получения убытка"
   ]
  },
  {
   "cell_type": "code",
   "execution_count": 12,
   "metadata": {},
   "outputs": [],
   "source": [
    "# Функция бутстрапа \n",
    "def bootstrap(target, predict, points, best):\n",
    "    state = np.random.RandomState(42) # случайный элемент\n",
    "    values = [] # массив прибылей\n",
    "\n",
    "    for i in range(1000): # Заполнение массива прибылей\n",
    "        target_subsample = target.sample(n=points, replace=True, random_state=state)\n",
    "        probs_subsample = pd.Series(predict[target_subsample.index])\n",
    "        values.append(revenue(target_subsample, probs_subsample, best))\n",
    "        \n",
    "    values = pd.Series(values)\n",
    "    print('Средняя выручка:', values.mean())\n",
    "    print('95%-ый доверительный интервал:', pd.Series(values).quantile(0.025), pd.Series(values).quantile(0.975))\n",
    "    print('Вероятность убытков:', values[values < 0].count() / len(values))"
   ]
  },
  {
   "cell_type": "code",
   "execution_count": 13,
   "metadata": {
    "scrolled": false
   },
   "outputs": [
    {
     "name": "stdout",
     "output_type": "stream",
     "text": [
      "Регион 1\n",
      "Средняя выручка: 427.847560462525\n",
      "95%-ый доверительный интервал: -97.24982956859569 954.2151927088142\n",
      "Вероятность убытков: 0.055\n",
      "Регион 2\n",
      "Средняя выручка: 511.3627761976858\n",
      "95%-ый доверительный интервал: 98.87064990277922 940.7205116508032\n",
      "Вероятность убытков: 0.009\n",
      "Регион 3\n",
      "Средняя выручка: 402.57560751419624\n",
      "95%-ый доверительный интервал: -137.1622250719332 929.8875280253216\n",
      "Вероятность убытков: 0.074\n"
     ]
    }
   ],
   "source": [
    "# Вывод основных параметров по регионам\n",
    "print('Регион 1')\n",
    "bootstrap(target_valid_df0, predict_valid_df0, POINTS, BEST_POINTS)\n",
    "print('Регион 2')\n",
    "bootstrap(target_valid_df1, predict_valid_df1, POINTS, BEST_POINTS)\n",
    "print('Регион 3')\n",
    "bootstrap(target_valid_df2, predict_valid_df2, POINTS, BEST_POINTS)"
   ]
  },
  {
   "cell_type": "markdown",
   "metadata": {},
   "source": [
    "# Общий вывод\n",
    "\n",
    "Для разработки скважин рекомендуется Регион 2, так как он имеет:\n",
    "* наибольшую среднюю выручку\n",
    "* минимальную вероятность убытков\n",
    "* доверительный интервал в положительной зоне"
   ]
  }
 ],
 "metadata": {
  "kernelspec": {
   "display_name": "Python 3",
   "language": "python",
   "name": "python3"
  },
  "language_info": {
   "codemirror_mode": {
    "name": "ipython",
    "version": 3
   },
   "file_extension": ".py",
   "mimetype": "text/x-python",
   "name": "python",
   "nbconvert_exporter": "python",
   "pygments_lexer": "ipython3",
   "version": "3.8.3"
  }
 },
 "nbformat": 4,
 "nbformat_minor": 4
}
