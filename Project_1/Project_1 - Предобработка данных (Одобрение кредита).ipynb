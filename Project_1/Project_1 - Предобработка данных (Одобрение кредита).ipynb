{
 "cells": [
  {
   "cell_type": "markdown",
   "metadata": {},
   "source": [
    "<font color='blue'>Привет! Поздравляю с первым выполненным проектом. Проделана большая работа. Меня зовут Алексей Алексеев, я проверю твою работу и напишу свои комментарии. Они, в зависимости от результата проверки, будут в </font><font color='green'>зеленом (когда все отлично),</font> <font color='brown'>коричневом (когда можно лучше)</font><font color='blue'> или</font> <font color='red'>красном (когда нужно переделать, чтобы я принял работу).</font><font color='blue'> Ну и в синем будут просто советы и нейтральные комментарии. Пожалуйста, не удаляй эти комментарии, они понадобятся нам для дальнейшей работы над проектом. Кстати, сразу предлагаю общаться на \"ты\".  \n",
    "Наличие критичного или трех и более некритичных замечаний является поводом для отправки проекта на доработку. Некритичные замечания могут касаться нового материала, не освещенного в тренажере, но пожалуйста, не воспринимай их как мое необоснованное желание указать на твои ошибки. Изучать новый материал по ходу работы над проектом - это часть процесса обучения, на мой взгляд, очень эффективная. Так что не стесняйся задавать вопросы, если что-то не понятно. Наша общая цель - получить новые знания и навыки.     \n",
    "А чтобы я точно не пропустил твои апдейты, желательно их также подсветить другим цветом, например, <font color='purple'>фиолетовым</font>.\n",
    "\n",
    "---   \n",
    "<font color='blue'>Апдейт после проверки: отличный проект, доработать по мелочи и можно принимать.   \n",
    "    Более подробно см. блок в конце.\n",
    "\n",
    "</font>"
   ]
  },
  {
   "cell_type": "markdown",
   "metadata": {},
   "source": [
    "## Исследование надёжности заёмщиков\n",
    "\n",
    "Заказчик — кредитный отдел банка. Нужно разобраться, влияет ли семейное положение и количество детей клиента на факт погашения кредита в срок. Входные данные от банка — статистика о платёжеспособности клиентов.\n",
    "\n",
    "Результаты исследования будут учтены при построении модели **кредитного скоринга** — специальной системы, которая оценивает способность потенциального заёмщика вернуть кредит банку."
   ]
  },
  {
   "cell_type": "markdown",
   "metadata": {},
   "source": [
    "### Шаг 1. Откройте файл с данными и изучите общую информацию. "
   ]
  },
  {
   "cell_type": "code",
   "execution_count": 3,
   "metadata": {},
   "outputs": [
    {
     "name": "stdout",
     "output_type": "stream",
     "text": [
      "<class 'pandas.core.frame.DataFrame'>\n",
      "RangeIndex: 21525 entries, 0 to 21524\n",
      "Data columns (total 12 columns):\n",
      "children            21525 non-null int64\n",
      "days_employed       19351 non-null float64\n",
      "dob_years           21525 non-null int64\n",
      "education           21525 non-null object\n",
      "education_id        21525 non-null int64\n",
      "family_status       21525 non-null object\n",
      "family_status_id    21525 non-null int64\n",
      "gender              21525 non-null object\n",
      "income_type         21525 non-null object\n",
      "debt                21525 non-null int64\n",
      "total_income        19351 non-null float64\n",
      "purpose             21525 non-null object\n",
      "dtypes: float64(2), int64(5), object(5)\n",
      "memory usage: 2.0+ MB\n",
      "None\n",
      " 0     14149\n",
      " 1      4818\n",
      " 2      2055\n",
      " 3       330\n",
      " 20       76\n",
      "-1        47\n",
      " 4        41\n",
      " 5         9\n",
      "Name: children, dtype: int64\n",
      "       children  days_employed  dob_years education  education_id  \\\n",
      "6954          0  401755.400475         56   среднее             1   \n",
      "10006         0  401715.811749         69    высшее             0   \n",
      "7664          1  401675.093434         61   среднее             1   \n",
      "2156          0  401674.466633         60   среднее             1   \n",
      "7794          0  401663.850046         61   среднее             1   \n",
      "...         ...            ...        ...       ...           ...   \n",
      "21489         2            NaN         47   Среднее             1   \n",
      "21495         1            NaN         50   среднее             1   \n",
      "21497         0            NaN         48    ВЫСШЕЕ             0   \n",
      "21502         1            NaN         42   среднее             1   \n",
      "21510         2            NaN         28   среднее             1   \n",
      "\n",
      "               family_status  family_status_id gender income_type  debt  \\\n",
      "6954          вдовец / вдова                 2      F   пенсионер     0   \n",
      "10006  Не женат / не замужем                 4      F   пенсионер     0   \n",
      "7664         женат / замужем                 0      F   пенсионер     0   \n",
      "2156         женат / замужем                 0      M   пенсионер     0   \n",
      "7794        гражданский брак                 1      F   пенсионер     0   \n",
      "...                      ...               ...    ...         ...   ...   \n",
      "21489        женат / замужем                 0      M   компаньон     0   \n",
      "21495       гражданский брак                 1      F   сотрудник     0   \n",
      "21497        женат / замужем                 0      F   компаньон     0   \n",
      "21502        женат / замужем                 0      F   сотрудник     0   \n",
      "21510        женат / замужем                 0      F   сотрудник     0   \n",
      "\n",
      "        total_income                           purpose  \n",
      "6954   176278.441171                      ремонт жилью  \n",
      "10006   57390.256908             получение образования  \n",
      "7664   126214.519212                 операции с жильем  \n",
      "2156   325395.724541                        автомобили  \n",
      "7794    48286.441362                           свадьба  \n",
      "...              ...                               ...  \n",
      "21489            NaN              сделка с автомобилем  \n",
      "21495            NaN                           свадьба  \n",
      "21497            NaN        строительство недвижимости  \n",
      "21502            NaN  строительство жилой недвижимости  \n",
      "21510            NaN           приобретение автомобиля  \n",
      "\n",
      "[21525 rows x 12 columns]\n",
      "children            2174\n",
      "days_employed          0\n",
      "dob_years           2174\n",
      "education           2174\n",
      "education_id        2174\n",
      "family_status       2174\n",
      "family_status_id    2174\n",
      "gender              2174\n",
      "income_type         2174\n",
      "debt                2174\n",
      "total_income           0\n",
      "purpose             2174\n",
      "dtype: int64\n",
      "children            101\n",
      "days_employed        91\n",
      "dob_years           101\n",
      "education           101\n",
      "education_id        101\n",
      "family_status       101\n",
      "family_status_id    101\n",
      "gender              101\n",
      "income_type         101\n",
      "debt                101\n",
      "total_income         91\n",
      "purpose             101\n",
      "dtype: int64\n",
      "                     children  days_employed  dob_years  education_id  \\\n",
      "education                                                               \n",
      "ВЫСШЕЕ                    274            251        274           274   \n",
      "Высшее                    268            243        268           268   \n",
      "НАЧАЛЬНОЕ                  17             16         17            17   \n",
      "НЕОКОНЧЕННОЕ ВЫСШЕЕ        29             22         29            29   \n",
      "Начальное                  15             14         15            15   \n",
      "Неоконченное высшее        47             40         47            47   \n",
      "СРЕДНЕЕ                   772            705        772           772   \n",
      "Среднее                   711            646        711           711   \n",
      "УЧЕНАЯ СТЕПЕНЬ              1              1          1             1   \n",
      "Ученая степень              1              1          1             1   \n",
      "высшее                   4718           4222       4718          4718   \n",
      "начальное                 250            231        250           250   \n",
      "неоконченное высшее       668            613        668           668   \n",
      "среднее                 13750          12342      13750         13750   \n",
      "ученая степень              4              4          4             4   \n",
      "\n",
      "                     family_status  family_status_id  gender  income_type  \\\n",
      "education                                                                   \n",
      "ВЫСШЕЕ                         274               274     274          274   \n",
      "Высшее                         268               268     268          268   \n",
      "НАЧАЛЬНОЕ                       17                17      17           17   \n",
      "НЕОКОНЧЕННОЕ ВЫСШЕЕ             29                29      29           29   \n",
      "Начальное                       15                15      15           15   \n",
      "Неоконченное высшее             47                47      47           47   \n",
      "СРЕДНЕЕ                        772               772     772          772   \n",
      "Среднее                        711               711     711          711   \n",
      "УЧЕНАЯ СТЕПЕНЬ                   1                 1       1            1   \n",
      "Ученая степень                   1                 1       1            1   \n",
      "высшее                        4718              4718    4718         4718   \n",
      "начальное                      250               250     250          250   \n",
      "неоконченное высшее            668               668     668          668   \n",
      "среднее                      13750             13750   13750        13750   \n",
      "ученая степень                   4                 4       4            4   \n",
      "\n",
      "                      debt  total_income  purpose  \n",
      "education                                          \n",
      "ВЫСШЕЕ                 274           251      274  \n",
      "Высшее                 268           243      268  \n",
      "НАЧАЛЬНОЕ               17            16       17  \n",
      "НЕОКОНЧЕННОЕ ВЫСШЕЕ     29            22       29  \n",
      "Начальное               15            14       15  \n",
      "Неоконченное высшее     47            40       47  \n",
      "СРЕДНЕЕ                772           705      772  \n",
      "Среднее                711           646      711  \n",
      "УЧЕНАЯ СТЕПЕНЬ           1             1        1  \n",
      "Ученая степень           1             1        1  \n",
      "высшее                4718          4222     4718  \n",
      "начальное              250           231      250  \n",
      "неоконченное высшее    668           613      668  \n",
      "среднее              13750         12342    13750  \n",
      "ученая степень           4             4        4  \n",
      "1    15233\n",
      "0     5260\n",
      "2      744\n",
      "3      282\n",
      "4        6\n",
      "Name: education_id, dtype: int64\n",
      "женат / замужем          12380\n",
      "гражданский брак          4177\n",
      "Не женат / не замужем     2813\n",
      "в разводе                 1195\n",
      "вдовец / вдова             960\n",
      "Name: family_status, dtype: int64\n",
      "0    12380\n",
      "1     4177\n",
      "4     2813\n",
      "3     1195\n",
      "2      960\n",
      "Name: family_status_id, dtype: int64\n",
      "F      14236\n",
      "M       7288\n",
      "XNA        1\n",
      "Name: gender, dtype: int64\n",
      "сотрудник          11119\n",
      "компаньон           5085\n",
      "пенсионер           3856\n",
      "госслужащий         1459\n",
      "предприниматель        2\n",
      "безработный            2\n",
      "студент                1\n",
      "в декрете              1\n",
      "Name: income_type, dtype: int64\n",
      "0    19784\n",
      "1     1741\n",
      "Name: debt, dtype: int64\n",
      "свадьба                                   797\n",
      "на проведение свадьбы                     777\n",
      "сыграть свадьбу                           774\n",
      "операции с недвижимостью                  676\n",
      "покупка коммерческой недвижимости         664\n",
      "операции с жильем                         653\n",
      "покупка жилья для сдачи                   653\n",
      "операции с коммерческой недвижимостью     651\n",
      "покупка жилья                             647\n",
      "жилье                                     647\n",
      "покупка жилья для семьи                   641\n",
      "строительство собственной недвижимости    635\n",
      "недвижимость                              634\n",
      "операции со своей недвижимостью           630\n",
      "строительство жилой недвижимости          626\n",
      "покупка недвижимости                      624\n",
      "строительство недвижимости                620\n",
      "покупка своего жилья                      620\n",
      "ремонт жилью                              612\n",
      "покупка жилой недвижимости                607\n",
      "на покупку своего автомобиля              505\n",
      "заняться высшим образованием              496\n",
      "автомобиль                                495\n",
      "сделка с подержанным автомобилем          489\n",
      "свой автомобиль                           480\n",
      "на покупку подержанного автомобиля        479\n",
      "автомобили                                478\n",
      "на покупку автомобиля                     472\n",
      "приобретение автомобиля                   462\n",
      "дополнительное образование                462\n",
      "сделка с автомобилем                      455\n",
      "высшее образование                        453\n",
      "получение дополнительного образования     447\n",
      "образование                               447\n",
      "получение образования                     443\n",
      "профильное образование                    436\n",
      "получение высшего образования             426\n",
      "заняться образованием                     412\n",
      "Name: purpose, dtype: int64\n"
     ]
    }
   ],
   "source": [
    "import pandas as pd\n",
    "data = pd.read_csv('/datasets/data.csv')\n",
    "# Общая информация о таблице\n",
    "print(data.info())\n",
    "# Количество уникальных значений в столбце 'children'\n",
    "print(data['children'].value_counts())\n",
    "# Диапазон значений по столбцу 'days_employed'\n",
    "print(data.sort_values(by='days_employed', ascending = False))\n",
    "# Подсчет нулевых значений в столбце 'days_employed'\n",
    "print(data[data['days_employed'].isnull()].count())\n",
    "# Подсчет значений возраста, выходящих за разумный пределы\n",
    "print(data.loc[(data['dob_years'] <= 16) | (data['dob_years'] >= 100)].count())\n",
    "# По\n",
    "print(data.groupby('education').count())\n",
    "print(data['education_id'].value_counts())\n",
    "print(data['family_status'].value_counts())\n",
    "print(data['family_status_id'].value_counts())\n",
    "print(data['gender'].value_counts())\n",
    "print(data['income_type'].value_counts())\n",
    "print(data['debt'].value_counts())\n",
    "print(data['purpose'].value_counts())"
   ]
  },
  {
   "cell_type": "markdown",
   "metadata": {},
   "source": [
    "### Вывод"
   ]
  },
  {
   "cell_type": "markdown",
   "metadata": {},
   "source": [
    "## Общая информация об датасете\n",
    "1. Количество значений в столбцах не одинаково.В двух столбцах значений меньше, соответственно в них есть пропуски данных\n",
    "2. Тип значений столбцов устраивает кроме debt - надо поставить булево значение (?)\n",
    "3. Анализ столбцов\n",
    "  1. children\n",
    "      * Посмотрев на список уникальных значений можно сделать следующие предположения:\n",
    "      * 20 детей конечно может быть, но очень вряд ли. Скорее всего случайно добавили 0. Надо заменить на 2\n",
    "      * Аналогично с показателем -1, надо исправить на 1\n",
    "  2. days_employed\n",
    "      * Очень большой разброс данных. Есть и отрицательные числа и NaN и огромныйе числа типа 482 лет (дни /365). Есть гипотезы.\n",
    "      * Отрицательные величины на самом деле положительные, у которых в начале появился \"-\". Надо взять их по модулю\n",
    "      * Пустые значения означают или отсутствие рабочего стажа или отсутствие информации. Их 2174 штуки или 10%, что существенно. Если это отсутствие информации, то можно заполнить пропуски средним значением в зависимости от возраста. Если это отсутствие рабочего стажа, то заполнить 0. Надо узнать причину пропусков. Учитывая, что данные корелируют со столбцом дохода, большая вероятность, что данные по работе не были занесены и тогда эти строки или удалить или заполнить по среднему.\n",
    "      * Большие значения стажа были введены не в днях, а в часах и их надо дополнительно разделить на 24\n",
    "  3. dob_years\n",
    "      * 101 запись меньше 16 лет и больше 100, а таким кредит не дают. Их всего 0,4% и их можно удалить\n",
    "  4. education\n",
    "      * Есть дубликаты значений, написанные в разном регистре. Надо привести к нижнему для категоризации\n",
    "  5. education_id\n",
    "      * Есть 5 значений, соответствующие 5 типам образавания. Вопрос насколько они корректны? Можно исходя из них заполнить столбец \"education\" и сравнить с тем что сделали выше\n",
    "  6. family_status \n",
    "      * никаких претензий нет\n",
    "  7. family_status_id\n",
    "      * никаких претензий нет\n",
    "  8. gender \n",
    "      * одна непонятная запись \"XNA\", ее можно удалить \n",
    "  9. income_type\n",
    "      * 4 основных категрии, 4 - незначительных. Их можно или удалить, или свести в одну категоию \"прочие\"\n",
    "  10. debt\n",
    "      * никаких претензий нет \n",
    "  11. total_income\n",
    "      * Для удобства восприятия возможно отформатировать до 0 знаков после запятой. \n",
    "  12. purpose\n",
    "      * Много дубликатов, связанны, видимо, со свободной формой заполнения. Надо провести леммизацию и определить категории\n",
    "      \n",
    "  \n",
    "  \n",
    "  \n",
    "  \n",
    "      \n",
    "      \n",
    "      \n",
    "      \n",
    "      "
   ]
  },
  {
   "cell_type": "markdown",
   "metadata": {},
   "source": [
    "<font color='green'>Данные загружены и подробно изучены, использованы подходящие методы для первичного изучения данных. Отлично подмечены основные проблемы.</font>"
   ]
  },
  {
   "cell_type": "markdown",
   "metadata": {},
   "source": [
    "### Шаг 2. Предобработка данных"
   ]
  },
  {
   "cell_type": "markdown",
   "metadata": {},
   "source": [
    "### Обработка пропусков"
   ]
  },
  {
   "cell_type": "code",
   "execution_count": 4,
   "metadata": {},
   "outputs": [],
   "source": [
    "# Приводим в порядок столбец 'children', заменяя значения\n",
    "data.loc[data['children'] == -1, 'children'] = 1\n",
    "data.loc[data['children'] == 20, 'children'] = 2\n",
    "# Сокращаем количество категорий в столбце 'income_type'\n",
    "data.loc[data['income_type'] == 'безработный', 'income_type'] = 'прочее'\n",
    "data.loc[data['income_type'] == 'предприниматель', 'income_type'] = 'прочее'\n",
    "data.loc[data['income_type'] == 'в декрете', 'income_type'] = 'прочее'\n",
    "data.loc[data['income_type'] == 'студент', 'income_type'] = 'прочее'\n",
    "# Функция вычисления медианного дохода по категориям\n",
    "def median_income_type(income_type_in):\n",
    "    data.loc[data['income_type'] == income_type_in]\n",
    "    median_income_type = data['total_income'].median()\n",
    "    return median_income_type\n",
    "# Заполнение пропусков медианным доходом по категориям\n",
    "data.loc[data['income_type'] == 'сотрудник','total_income'] = data.loc[data['income_type'] == 'сотрудник','total_income'].fillna(value = median_income_type('сотрудник'))\n",
    "data.loc[data['income_type'] == 'пенсионер','total_income'] = data.loc[data['income_type'] == 'пенсионер','total_income'].fillna(value = median_income_type('пенсионер'))\n",
    "data.loc[data['income_type'] == 'прочее','total_income'] = data.loc[data['income_type'] == 'прочее','total_income'].fillna(value = median_income_type('прочее'))\n",
    "data.loc[data['income_type'] == 'компаньон','total_income'] = data.loc[data['income_type'] == 'компаньон','total_income'].fillna(value = median_income_type('компаньон'))\n",
    "data.loc[data['income_type'] == 'госслужащий','total_income'] = data.loc[data['income_type'] == 'госслужащий','total_income'].fillna(value = median_income_type('госслужащий'))\n",
    "\n"
   ]
  },
  {
   "cell_type": "markdown",
   "metadata": {},
   "source": [
    "<font color='green'>Отличный ход с группировкой по типу дохода. И молодец, что заполняешь медианами, а не средним арифметическим. "
   ]
  },
  {
   "cell_type": "markdown",
   "metadata": {},
   "source": [
    "<font color='blue'>Однако обрати внимание, как много у нас повторяющегося кода. Это не очень элегантно и не очень читаемо. Гораздо лучше здесь сделать зполнение в цикле: выделяем список уникальных типов занятости (`data['income_type'].unique()`), далее, проходимся по нему циклом и на каждой итерации находим медиану/зпаолняем пропуски для текущего типа занятости.  \n",
    "    Оставлю на домашнее задание."
   ]
  },
  {
   "cell_type": "markdown",
   "metadata": {},
   "source": [
    "### Вывод"
   ]
  },
  {
   "cell_type": "markdown",
   "metadata": {},
   "source": []
  },
  {
   "cell_type": "markdown",
   "metadata": {},
   "source": [
    "### Замена типа данных"
   ]
  },
  {
   "cell_type": "code",
   "execution_count": 5,
   "metadata": {},
   "outputs": [],
   "source": [
    "data['total_income'] = data['total_income'].astype('int')"
   ]
  },
  {
   "cell_type": "markdown",
   "metadata": {},
   "source": [
    "### Вывод"
   ]
  },
  {
   "cell_type": "markdown",
   "metadata": {},
   "source": [
    "~~<font color='red'>В целом, копейки в уровнях дохода нас не интересуют, так что тоже можно заменить на int. Это сэкономит место и время на обработку, что может быть критично, если данных много.~~ \n",
    "<font color='purple'>Меняем тип данных в столбце 'total_income' на целочисленный</font>"
   ]
  },
  {
   "cell_type": "markdown",
   "metadata": {},
   "source": [
    "<b>UPD: <font color='green'>Теперь все более наглядно и компактно."
   ]
  },
  {
   "cell_type": "markdown",
   "metadata": {},
   "source": []
  },
  {
   "cell_type": "markdown",
   "metadata": {},
   "source": [
    "### Обработка дубликатов"
   ]
  },
  {
   "cell_type": "code",
   "execution_count": 6,
   "metadata": {},
   "outputs": [],
   "source": [
    "# Приведение столбца профессий к нижнему регистру\n",
    "data['education'] = data['education'].str.lower()"
   ]
  },
  {
   "cell_type": "markdown",
   "metadata": {},
   "source": [
    "<S><font color='red'>Молодец, что приводишь все к одному регистру, тем не менее, дубликаты (полностью одинаковые строки) в сете остались. Нужно что-то  с ними сделать."
   ]
  },
  {
   "cell_type": "code",
   "execution_count": 7,
   "metadata": {},
   "outputs": [
    {
     "name": "stdout",
     "output_type": "stream",
     "text": [
      "0\n"
     ]
    }
   ],
   "source": [
    "# Удаляем дубликаты\n",
    "data = data.drop_duplicates().reset_index(drop=True)\n",
    "print(data.duplicated().sum())"
   ]
  },
  {
   "cell_type": "markdown",
   "metadata": {},
   "source": [
    "### Вывод"
   ]
  },
  {
   "cell_type": "markdown",
   "metadata": {},
   "source": [
    "<font color='purple'>В данных дубликатов нет</font>"
   ]
  },
  {
   "cell_type": "markdown",
   "metadata": {},
   "source": [
    "<b>UPD: <font color='green'>Разобрались."
   ]
  },
  {
   "cell_type": "markdown",
   "metadata": {},
   "source": [
    "### Лемматизация"
   ]
  },
  {
   "cell_type": "code",
   "execution_count": 8,
   "metadata": {},
   "outputs": [
    {
     "name": "stdout",
     "output_type": "stream",
     "text": [
      "Counter({'недвижимость': 6351, 'покупка': 5897, 'жилье': 4460, 'автомобиль': 4306, 'образование': 4013, 'с': 2918, 'операция': 2604, 'свадьба': 2324, 'свой': 2230, 'на': 2222, 'строительство': 1878, 'высокий': 1374, 'получение': 1314, 'коммерческий': 1311, 'для': 1289, 'жилой': 1230, 'сделка': 941, 'дополнительный': 906, 'заниматься': 904, 'проведение': 768, 'сыграть': 765, 'сдача': 651, 'семья': 638, 'собственный': 635, 'со': 627, 'ремонт': 607, 'подержанный': 486, 'подержать': 478, 'приобретение': 461, 'профильный': 436})\n"
     ]
    }
   ],
   "source": [
    "# импорт библиотеки pymystem3\n",
    "from pymystem3 import Mystem\n",
    "m = Mystem()\n",
    "# Функция лемматизации\n",
    "def purpose_lem(row):\n",
    "    lemmas = ' '.join(m.lemmatize(row))\n",
    "    return lemmas\n",
    "# Запись лемм в новый столбец 'purpose_lem'\n",
    "data['purpose_lem'] = data['purpose'].apply(purpose_lem)\n",
    "# импорт контейнера для подсчёта упоминаний слов\n",
    "from collections import Counter\n",
    "# вывод количества уникальных лемм \n",
    "print(Counter(' '.join(data['purpose_lem'].tolist()).split())) \n",
    "\n",
    "        \n",
    "        \n",
    "        \n",
    "        "
   ]
  },
  {
   "cell_type": "markdown",
   "metadata": {},
   "source": [
    "<font color='green'>Здорово реализован автоматизированный поиск популярных лемм. За это **жирный** плюс."
   ]
  },
  {
   "cell_type": "markdown",
   "metadata": {},
   "source": [
    "### Вывод"
   ]
  },
  {
   "cell_type": "markdown",
   "metadata": {},
   "source": [
    "Для категорий \"Цели кредита\" можно выделить:\n",
    "* Недвижимость / жилье / ремонт\n",
    "* Автомобиль\n",
    "* Образование\n",
    "* Свадьба"
   ]
  },
  {
   "cell_type": "markdown",
   "metadata": {},
   "source": [
    "### Категоризация данных"
   ]
  },
  {
   "cell_type": "code",
   "execution_count": 9,
   "metadata": {},
   "outputs": [],
   "source": [
    "# Функция определения категории детей\n",
    "def children_category(amount):\n",
    "    if amount == 0:\n",
    "        return 'нет детей'\n",
    "    if amount >= 3:\n",
    "        return 'многодетные'\n",
    "    return 'есть дети'\n",
    "# Новый столбец с категориями по детям\n",
    "data['children_category'] = data['children'].apply(children_category)\n",
    "\n",
    "# Функция определения категории дохода\n",
    "def total_income_category (amount):\n",
    "    if amount <= 100000:\n",
    "        return 'Низкий доход'\n",
    "    if amount >= 200000:\n",
    "        return 'Высокий доход'\n",
    "    return 'Средний доход'\n",
    "# Новый столбец с категориями по категориям дохода\n",
    "data['total_income_category'] = data['total_income'].apply(total_income_category)\n",
    "\n",
    "# Функция определения категории цели кредита\n",
    "def purpose_catrgory (row):\n",
    "    for word in row.split(' '):\n",
    "        if word == 'недвижимость':\n",
    "            return 'недвижимость'\n",
    "        if word == 'жилье':\n",
    "            return 'недвижимость'        \n",
    "        if word == 'ремонт':\n",
    "            return 'недвижимость'\n",
    "        if word == 'автомобиль':\n",
    "            return 'автомобиль' \n",
    "        if word == 'образование':\n",
    "            return 'образование'  \n",
    "        if word == 'свадьба':\n",
    "            return 'свадьба'  \n",
    "# Запись категорий в новый столбец 'purpose_catrgory'\n",
    "data['purpose_catrgory'] = data['purpose_lem'].apply(purpose_catrgory)       "
   ]
  },
  {
   "cell_type": "markdown",
   "metadata": {},
   "source": [
    "### Вывод"
   ]
  },
  {
   "cell_type": "markdown",
   "metadata": {},
   "source": [
    "Для ответов на вопросы нам понадобятся категории в столбцах:\n",
    "1. Дети\n",
    "    * 0 (нет детей)\n",
    "    * 1-2 (есть дети)\n",
    "    * 3 и больше (многодетные)\n",
    "2. Семейное положение\n",
    "    * женат / замужем\n",
    "    * гражданский брак\n",
    "    * Не женат / не замужем\n",
    "    * в разводе\n",
    "    * вдовец / вдова  \n",
    "3. Уровень дохода\n",
    "    * Низкий доход (до 20 000)\n",
    "    * Средний доход (от 20 000 до 50 000)\n",
    "    * Высокий доход (более 50 000)\n",
    "4. Цели\n",
    "    * Недвижимость / жилье / ремонт\n",
    "    * Автомобиль\n",
    "    * Образование\n",
    "    * Свадьба"
   ]
  },
  {
   "cell_type": "markdown",
   "metadata": {},
   "source": [
    "<font color='green'>Безусловно, отлично справились с категоризацией. "
   ]
  },
  {
   "cell_type": "markdown",
   "metadata": {},
   "source": [
    "<s><font color='brown'>Но давай здесь все-таки выделим хотя бы один \"словарь\" для образования или семейного статуса, как нас просят в задании. После этого мы теоретически сможем вовсе удалить из основной таблицы столбец со строковым обозначением образования (или семейного статуса), что здорово сэкономит место и время обработки. Просто скопируй пару столбцов, например, 'family_status' и 'family_status_id' в новый датафрейм и удали дубликаты, как было в теории в разделе \"Классификация по типу\"."
   ]
  },
  {
   "cell_type": "code",
   "execution_count": 10,
   "metadata": {},
   "outputs": [
    {
     "name": "stdout",
     "output_type": "stream",
     "text": [
      "           family_status  family_status_id\n",
      "0        женат / замужем                 0\n",
      "1       гражданский брак                 1\n",
      "2         вдовец / вдова                 2\n",
      "3              в разводе                 3\n",
      "4  Не женат / не замужем                 4\n"
     ]
    }
   ],
   "source": [
    "# Делаем словарь для семейного положения, в дальнейшем можем вместо текстового статуся пользоваться ID\n",
    "family_dict = data[['family_status', 'family_status_id']]\n",
    "family_dict = family_dict.drop_duplicates().reset_index(drop=True)\n",
    "print(family_dict.head(10))"
   ]
  },
  {
   "cell_type": "markdown",
   "metadata": {},
   "source": [
    "### Шаг 3. Ответьте на вопросы"
   ]
  },
  {
   "cell_type": "markdown",
   "metadata": {},
   "source": [
    "- Есть ли зависимость между наличием детей и возвратом кредита в срок?"
   ]
  },
  {
   "cell_type": "code",
   "execution_count": 11,
   "metadata": {},
   "outputs": [
    {
     "name": "stdout",
     "output_type": "stream",
     "text": [
      "children_category\n",
      "нет детей      0.075438\n",
      "многодетные    0.081579\n",
      "есть дети      0.092654\n",
      "Name: debt, dtype: float64\n"
     ]
    }
   ],
   "source": [
    "# Подсчет долей возврата кредита по категориям детей\n",
    "groupby_children_category = data.groupby('children_category')['debt'].sum() / data.groupby('children_category')['debt'].count()\n",
    "print(groupby_children_category.sort_values())\n"
   ]
  },
  {
   "cell_type": "markdown",
   "metadata": {},
   "source": [
    "<font color='green'>Все верно. Отличное использование `groupby`!"
   ]
  },
  {
   "cell_type": "markdown",
   "metadata": {},
   "source": [
    "### Вывод"
   ]
  },
  {
   "cell_type": "markdown",
   "metadata": {},
   "source": [
    "Между наличием детей и возвратом кредита в срок зависимости практически нет. Лучше всего возвращают кредиты заемщики без детей."
   ]
  },
  {
   "cell_type": "markdown",
   "metadata": {},
   "source": [
    "<font color='blue'>Насчет отсутствия разницы. Допустим банк дает кредит под 15% годовах. Из них 5% \"съедает\" инфляция, 5% - операционные расходы. Итого +5% чистой прибыли. При 4% невозврата банк еще в плюсе, возможно, это миллионы доларов. При 5% невозврата - банк не зарабатывает ничнего, при 6% - он банкротится.  \n",
    "    Конечно, эта ситуация крайне утрирована для примера, но то, что для бизнеса несколько процентов могут стать вопросом жизни и смерти - это факт."
   ]
  },
  {
   "cell_type": "markdown",
   "metadata": {},
   "source": [
    "- Есть ли зависимость между семейным положением и возвратом кредита в срок?"
   ]
  },
  {
   "cell_type": "code",
   "execution_count": 12,
   "metadata": {},
   "outputs": [
    {
     "name": "stdout",
     "output_type": "stream",
     "text": [
      "family_status\n",
      "вдовец / вдова           0.065693\n",
      "в разводе                0.071130\n",
      "женат / замужем          0.075452\n",
      "гражданский брак         0.093471\n",
      "Не женат / не замужем    0.097509\n",
      "Name: debt, dtype: float64\n"
     ]
    }
   ],
   "source": [
    "groupby_family_status = data.groupby('family_status')['debt'].sum() / data.groupby('family_status')['debt'].count()\n",
    "print(groupby_family_status.sort_values())"
   ]
  },
  {
   "cell_type": "markdown",
   "metadata": {},
   "source": [
    "### Вывод"
   ]
  },
  {
   "cell_type": "markdown",
   "metadata": {},
   "source": [
    "Между семейным положением и возвратом кредита в срок зависимомь минимальна. Наиболее аккуратные - \"вдовец / вдова\", наиболее проблемные - без семьи"
   ]
  },
  {
   "cell_type": "markdown",
   "metadata": {},
   "source": [
    "<font color='blue'>В целом, здесь видно, что наиболее надежные заемщики, это те, кто находится или когда-либо был в официальном браке."
   ]
  },
  {
   "cell_type": "markdown",
   "metadata": {},
   "source": [
    "- Есть ли зависимость между уровнем дохода и возвратом кредита в срок?"
   ]
  },
  {
   "cell_type": "code",
   "execution_count": 13,
   "metadata": {},
   "outputs": [
    {
     "name": "stdout",
     "output_type": "stream",
     "text": [
      "total_income_category\n",
      "Высокий доход    0.070667\n",
      "Низкий доход     0.079319\n",
      "Средний доход    0.086289\n",
      "Name: debt, dtype: float64\n"
     ]
    }
   ],
   "source": [
    "# Подсчет долей возврата кредита по категориям дохода\n",
    "groupby_income_category = data.groupby('total_income_category')['debt'].sum() / data.groupby('total_income_category')['debt'].count()\n",
    "print(groupby_income_category.sort_values())"
   ]
  },
  {
   "cell_type": "markdown",
   "metadata": {},
   "source": [
    "### Вывод"
   ]
  },
  {
   "cell_type": "markdown",
   "metadata": {},
   "source": [
    "Чем выше доход, тем меньше проблем с возратами кредита. Интересно было бы добавить информацию по сумме кредита. "
   ]
  },
  {
   "cell_type": "markdown",
   "metadata": {},
   "source": [
    "<font color='blue'>Однкао, что характерно, клиенты с самым нихким уровнем дохода отдают кредиты лучше, чем клиенты со средним."
   ]
  },
  {
   "cell_type": "markdown",
   "metadata": {},
   "source": [
    "- Как разные цели кредита влияют на его возврат в срок?"
   ]
  },
  {
   "cell_type": "code",
   "execution_count": 14,
   "metadata": {},
   "outputs": [
    {
     "name": "stdout",
     "output_type": "stream",
     "text": [
      "purpose_catrgory\n",
      "недвижимость    0.072334\n",
      "свадьба         0.080034\n",
      "образование     0.092200\n",
      "автомобиль      0.093590\n",
      "Name: debt, dtype: float64\n"
     ]
    }
   ],
   "source": [
    "groupby_purpose = data.groupby('purpose_catrgory')['debt'].sum() / data.groupby('purpose_catrgory')['debt'].count()\n",
    "print(groupby_purpose.sort_values())"
   ]
  },
  {
   "cell_type": "markdown",
   "metadata": {},
   "source": [
    "### Вывод"
   ]
  },
  {
   "cell_type": "markdown",
   "metadata": {},
   "source": [
    "Лучше всего возвращают кредиты на автомобиль, хуже всего - на недвижимость\n",
    "<font color='purple'>Лучше всего возвращают кредиты на недвижимость, хуже всего - на аввтомобиль\n",
    "</font>"
   ]
  },
  {
   "cell_type": "markdown",
   "metadata": {},
   "source": [
    "~~<font color='red'>Перепутали числитель со знаменателем. В итоге выводы полностью противоположные верным.~~\n",
    "<font color='purple'>Да, ошибся. Исправил</font>    "
   ]
  },
  {
   "cell_type": "markdown",
   "metadata": {},
   "source": [
    "<font color='green'>В целом же, эта часть выполнена хорошо. Верные цифры, лаконичный код, четкие и правильные выводы."
   ]
  },
  {
   "cell_type": "markdown",
   "metadata": {},
   "source": [
    "~~<font color='red'>Однако одной из целей этой работы является отработка применения сводных таблиц. Это гибкий и удобный способ, развитие метода `groupby()`, которым, как я вижу, ты уже вполне умеешь пользоваться. Предлагаю сделать шаг вперед и применить в рассчетах метод `pivot_table()`. Подсказка: для ответов на поставленные вопросы можно не указывать аргумент `columns` - тогда мы получим одномерную табличку, как в случае с `groupby()`.~~  \n",
    "  <font color='blue'> При желании же копнуть глубже, можно указать в качестве колонок (аргумент `columns`) какую-либо вторую категорию, тогда мы сможем оценить, например, как отдают кредиты люди с детьми и с целью - автомобиль."
   ]
  },
  {
   "cell_type": "code",
   "execution_count": 15,
   "metadata": {},
   "outputs": [
    {
     "name": "stdout",
     "output_type": "stream",
     "text": [
      "                       debt\n",
      "children_category          \n",
      "есть дети          0.092654\n",
      "многодетные        0.081579\n",
      "нет детей          0.075438\n",
      "                           debt\n",
      "family_status                  \n",
      "Не женат / не замужем  0.097509\n",
      "в разводе              0.071130\n",
      "вдовец / вдова         0.065693\n",
      "гражданский брак       0.093471\n",
      "женат / замужем        0.075452\n",
      "                           debt\n",
      "total_income_category          \n",
      "Высокий доход          0.070667\n",
      "Низкий доход           0.079319\n",
      "Средний доход          0.086289\n",
      "                      debt\n",
      "purpose_catrgory          \n",
      "автомобиль        0.093590\n",
      "недвижимость      0.072334\n",
      "образование       0.092200\n",
      "свадьба           0.080034\n",
      "family_status     Не женат / не замужем  в разводе  вдовец / вдова  \\\n",
      "purpose_catrgory                                                     \n",
      "автомобиль                     0.128728   0.074733        0.091743   \n",
      "недвижимость                   0.081454   0.069527        0.051661   \n",
      "образование                    0.107452   0.071429        0.075377   \n",
      "свадьба                             NaN        NaN             NaN   \n",
      "\n",
      "family_status     гражданский брак  женат / замужем  \n",
      "purpose_catrgory                                     \n",
      "автомобиль                0.117512         0.083699  \n",
      "недвижимость              0.092012         0.069349  \n",
      "образование               0.148515         0.083237  \n",
      "свадьба                   0.080034              NaN  \n"
     ]
    }
   ],
   "source": [
    "print(data.pivot_table('debt', index='children_category'))\n",
    "print(data.pivot_table('debt', index='family_status'))\n",
    "print(data.pivot_table('debt', index='total_income_category'))\n",
    "print(data.pivot_table('debt', index='purpose_catrgory'))\n",
    "print(data.pivot_table('debt', index='purpose_catrgory', columns = 'family_status'))"
   ]
  },
  {
   "cell_type": "markdown",
   "metadata": {},
   "source": [
    "<b>UPD: <font color='green'>Отлично, воспользовались этим полезным инструментом на полную мощь!"
   ]
  },
  {
   "cell_type": "markdown",
   "metadata": {},
   "source": [
    "### Шаг 4. Общий вывод"
   ]
  },
  {
   "cell_type": "markdown",
   "metadata": {},
   "source": [
    "Анализ предоставленных данных показал:\n",
    "1. Между наличием детей и возвратом кредита в срок зависимости практически нет. Лучше всего возвращают кредиты заемщики без детей.\n",
    "2. Между семейным положением и возвратом кредита в срок зависимомь минимальна. Наиболее аккуратные - \"вдовец / вдова\", наиболее проблемные - без семьи\n",
    "3. Наиболее аккуратно платят заемщики с высоким доходом, а хуже  - со средним доходом.\n",
    "4. Лучше всего возвращают кредиты на автомобиль, хуже всего - на недвижимость\n",
    "Рекомендации к дальнейшему сбору данных:\n",
    "1. Уточнить указание к заполнении \"Общего трудового стажа\", например месяцы и сделать предварительную проверку на адекватность значения\n",
    "2. При заполнении сделать категории типов занятости.\n",
    "3. При заполнении сделать категории целей кредита.\n",
    "Дополнительно:\n",
    "Возможно имеет смысл рассчитать кросс-категорийные показатели. Например: сумма кредита и доход заемщика, цели кредита и семейное положение и т.д.\n",
    "<font color='purple'>Дополнительный выводы:\n",
    "    При цели кредита \"на автомобиль\" лучше всего возвращают заемщики, находящиеся в разводе, хуже всего - не женатые\n",
    "    При цели кредита \"на недвижимость\" лучше всего возвращают заемщики в статусе \"вдовец/вдова\", хуже всего - в гражданском браке\n",
    "    При цели кредита \"на образование\" лучше всего возвращают заемщики в статусе \"женат/замужем\", хуже всего - в гражданском браке\n",
    "    Кредит \"на свадьбу\" берут только заемщики в гражданском браке \n",
    "</font>    \n"
   ]
  },
  {
   "cell_type": "markdown",
   "metadata": {},
   "source": [
    "<font color=green>Очень хороший структурированный вывод. Здорово, что в ты даешь четкий ответ на центральный вопрос, то есть бизнес совет клиенту - кто для него хороший клиент, кто плохой. Именно этого он от нас обычно и ждет."
   ]
  },
  {
   "cell_type": "markdown",
   "metadata": {},
   "source": [
    "<font color=green>К оформлению работы вопросов нет: все аккуратно, код и комментарии в подходящих ячейках. Код читабелен, комментарии грамотны и понятны."
   ]
  },
  {
   "cell_type": "markdown",
   "metadata": {},
   "source": [
    "---\n",
    "<font color='blue'>Итак, отличная работа, особенно для первого проекта. Ты показываешь прекрасное владение изучаемым материалом: уверенно пользуешься pandas, умеешь подготавливать, очищать, обогощать данные. Также ты правильно разбиваешь их на категории, грамотно применяя метод `apply()`. Отдельно отмечу очень лаконичный и суперчитабельный код.   \n",
    "    Однако некоторые замечания у меня все же есть, уверен, учесть их тебе не составит труда. Жду доработанный проект, успехов!"
   ]
  },
  {
   "cell_type": "markdown",
   "metadata": {},
   "source": [
    "<b>UPD: <font color='blue'>Работа доведена до идеала, с удовольствием принимаю. Отличный старт выполнения проектов. Впереди еще много интересных исследований. Успехов в дальнейшем прохождении курса!"
   ]
  },
  {
   "cell_type": "markdown",
   "metadata": {},
   "source": [
    "### Чек-лист готовности проекта\n",
    "\n",
    "Поставьте 'x' в выполненных пунктах. Далее нажмите Shift+Enter."
   ]
  },
  {
   "cell_type": "markdown",
   "metadata": {},
   "source": [
    "- [x]  открыт файл;\n",
    "- [x]  файл изучен;\n",
    "- [x]  определены пропущенные значения;\n",
    "- [x]  заполнены пропущенные значения;\n",
    "- [x]  есть пояснение, какие пропущенные значения обнаружены;\n",
    "- [x]  описаны возможные причины появления пропусков в данных;\n",
    "- [x]  объяснено, по какому принципу заполнены пропуски;\n",
    "- [х]  заменен вещественный тип данных на целочисленный;\n",
    "- [х]  есть пояснение, какой метод используется для изменения типа данных и почему;\n",
    "- [x]  удалены дубликаты;\n",
    "- [x]  есть пояснение, какой метод используется для поиска и удаления дубликатов;\n",
    "- [x]  описаны возможные причины появления дубликатов в данных;\n",
    "- [x]  выделены леммы в значениях столбца с целями получения кредита;\n",
    "- [x]  описан процесс лемматизации;\n",
    "- [x]  данные категоризированы;\n",
    "- [x]  есть объяснение принципа категоризации данных;\n",
    "- [x]  есть ответ на вопрос: \"Есть ли зависимость между наличием детей и возвратом кредита в срок?\";\n",
    "- [x]  есть ответ на вопрос: \"Есть ли зависимость между семейным положением и возвратом кредита в срок?\";\n",
    "- [x]  есть ответ на вопрос: \"Есть ли зависимость между уровнем дохода и возвратом кредита в срок?\";\n",
    "- [x]  есть ответ на вопрос: \"Как разные цели кредита влияют на его возврат в срок?\";\n",
    "- [x]  в каждом этапе есть выводы;\n",
    "- [x]  есть общий вывод."
   ]
  },
  {
   "cell_type": "code",
   "execution_count": null,
   "metadata": {},
   "outputs": [],
   "source": []
  }
 ],
 "metadata": {
  "kernelspec": {
   "display_name": "Python 3",
   "language": "python",
   "name": "python3"
  },
  "language_info": {
   "codemirror_mode": {
    "name": "ipython",
    "version": 3
   },
   "file_extension": ".py",
   "mimetype": "text/x-python",
   "name": "python",
   "nbconvert_exporter": "python",
   "pygments_lexer": "ipython3",
   "version": "3.7.6"
  }
 },
 "nbformat": 4,
 "nbformat_minor": 2
}
